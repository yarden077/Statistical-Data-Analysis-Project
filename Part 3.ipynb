{
 "cells": [
  {
   "cell_type": "code",
   "execution_count": 1,
   "id": "421d69c6",
   "metadata": {},
   "outputs": [],
   "source": [
    "import pandas as pd\n",
    "from scipy.stats import norm\n",
    "import numpy as np\n",
    "import matplotlib.pyplot as plt\n",
    "import seaborn as sns\n",
    "import scipy.stats as stats\n",
    "import statsmodels.api as sm\n",
    "from sklearn.linear_model import LogisticRegression\n",
    "from scipy.stats import chi2"
   ]
  },
  {
   "cell_type": "code",
   "execution_count": 2,
   "id": "ef37c61f",
   "metadata": {},
   "outputs": [],
   "source": [
    "# Reading the csv file and transforming the data using the code from EX1:\n",
    "original_df = pd.read_csv('CVD_cleaned.csv')"
   ]
  },
  {
   "cell_type": "markdown",
   "id": "b457da9c",
   "metadata": {},
   "source": [
    "## Part A - Linear Regression"
   ]
  },
  {
   "cell_type": "markdown",
   "id": "a6699269",
   "metadata": {},
   "source": [
    "### Q.1"
   ]
  },
  {
   "cell_type": "markdown",
   "id": "cbaac9ca",
   "metadata": {},
   "source": [
    "#### Explanatory Variables:\n",
    "* x1: FriedPotato Consumption (Continuous)\n",
    "* x2: Depression (Binary)\n",
    "* x3: Smoking History  (Binary)\n",
    "\n",
    "#### Explained Variable:\n",
    "* Y = Alcohol Consumption (Continuous)\n",
    "\n",
    "### Research Question:\n",
    "* Do FriedPotato Consumption, Depression and Smoking History affect Alcohol Consumption?"
   ]
  },
  {
   "cell_type": "code",
   "execution_count": 3,
   "id": "7481f87c",
   "metadata": {},
   "outputs": [
    {
     "data": {
      "text/html": [
       "<div>\n",
       "<style scoped>\n",
       "    .dataframe tbody tr th:only-of-type {\n",
       "        vertical-align: middle;\n",
       "    }\n",
       "\n",
       "    .dataframe tbody tr th {\n",
       "        vertical-align: top;\n",
       "    }\n",
       "\n",
       "    .dataframe thead th {\n",
       "        text-align: right;\n",
       "    }\n",
       "</style>\n",
       "<table border=\"1\" class=\"dataframe\">\n",
       "  <thead>\n",
       "    <tr style=\"text-align: right;\">\n",
       "      <th></th>\n",
       "      <th>FriedPotato_Consumption</th>\n",
       "      <th>Depression</th>\n",
       "      <th>Smoking_History</th>\n",
       "      <th>Alcohol_Consumption</th>\n",
       "    </tr>\n",
       "  </thead>\n",
       "  <tbody>\n",
       "    <tr>\n",
       "      <th>0</th>\n",
       "      <td>12.0</td>\n",
       "      <td>0</td>\n",
       "      <td>1</td>\n",
       "      <td>0.0</td>\n",
       "    </tr>\n",
       "    <tr>\n",
       "      <th>1</th>\n",
       "      <td>4.0</td>\n",
       "      <td>0</td>\n",
       "      <td>0</td>\n",
       "      <td>0.0</td>\n",
       "    </tr>\n",
       "    <tr>\n",
       "      <th>2</th>\n",
       "      <td>16.0</td>\n",
       "      <td>0</td>\n",
       "      <td>0</td>\n",
       "      <td>4.0</td>\n",
       "    </tr>\n",
       "    <tr>\n",
       "      <th>3</th>\n",
       "      <td>8.0</td>\n",
       "      <td>0</td>\n",
       "      <td>0</td>\n",
       "      <td>0.0</td>\n",
       "    </tr>\n",
       "    <tr>\n",
       "      <th>4</th>\n",
       "      <td>0.0</td>\n",
       "      <td>0</td>\n",
       "      <td>1</td>\n",
       "      <td>0.0</td>\n",
       "    </tr>\n",
       "    <tr>\n",
       "      <th>...</th>\n",
       "      <td>...</td>\n",
       "      <td>...</td>\n",
       "      <td>...</td>\n",
       "      <td>...</td>\n",
       "    </tr>\n",
       "    <tr>\n",
       "      <th>308849</th>\n",
       "      <td>0.0</td>\n",
       "      <td>0</td>\n",
       "      <td>0</td>\n",
       "      <td>4.0</td>\n",
       "    </tr>\n",
       "    <tr>\n",
       "      <th>308850</th>\n",
       "      <td>4.0</td>\n",
       "      <td>0</td>\n",
       "      <td>0</td>\n",
       "      <td>8.0</td>\n",
       "    </tr>\n",
       "    <tr>\n",
       "      <th>308851</th>\n",
       "      <td>4.0</td>\n",
       "      <td>1</td>\n",
       "      <td>1</td>\n",
       "      <td>4.0</td>\n",
       "    </tr>\n",
       "    <tr>\n",
       "      <th>308852</th>\n",
       "      <td>0.0</td>\n",
       "      <td>0</td>\n",
       "      <td>0</td>\n",
       "      <td>3.0</td>\n",
       "    </tr>\n",
       "    <tr>\n",
       "      <th>308853</th>\n",
       "      <td>1.0</td>\n",
       "      <td>0</td>\n",
       "      <td>0</td>\n",
       "      <td>1.0</td>\n",
       "    </tr>\n",
       "  </tbody>\n",
       "</table>\n",
       "<p>308854 rows × 4 columns</p>\n",
       "</div>"
      ],
      "text/plain": [
       "        FriedPotato_Consumption  Depression  Smoking_History  \\\n",
       "0                          12.0           0                1   \n",
       "1                           4.0           0                0   \n",
       "2                          16.0           0                0   \n",
       "3                           8.0           0                0   \n",
       "4                           0.0           0                1   \n",
       "...                         ...         ...              ...   \n",
       "308849                      0.0           0                0   \n",
       "308850                      4.0           0                0   \n",
       "308851                      4.0           1                1   \n",
       "308852                      0.0           0                0   \n",
       "308853                      1.0           0                0   \n",
       "\n",
       "        Alcohol_Consumption  \n",
       "0                       0.0  \n",
       "1                       0.0  \n",
       "2                       4.0  \n",
       "3                       0.0  \n",
       "4                       0.0  \n",
       "...                     ...  \n",
       "308849                  4.0  \n",
       "308850                  8.0  \n",
       "308851                  4.0  \n",
       "308852                  3.0  \n",
       "308853                  1.0  \n",
       "\n",
       "[308854 rows x 4 columns]"
      ]
     },
     "execution_count": 3,
     "metadata": {},
     "output_type": "execute_result"
    }
   ],
   "source": [
    "# Transforming df\n",
    "original_df = original_df[['FriedPotato_Consumption', 'Depression', 'Smoking_History', 'Alcohol_Consumption']]\n",
    "original_df['Depression'] = original_df['Depression'].replace({'Yes': 1, 'No': 0})\n",
    "original_df['Smoking_History'] = original_df['Smoking_History'].replace({'Yes': 1, 'No': 0})\n",
    "original_df  "
   ]
  },
  {
   "cell_type": "markdown",
   "id": "1d7e2561",
   "metadata": {},
   "source": [
    "## Q.2"
   ]
  },
  {
   "cell_type": "code",
   "execution_count": 4,
   "id": "bd2babac",
   "metadata": {},
   "outputs": [],
   "source": [
    "# sample 200 rows:\n",
    "df = original_df.sample(n=200, random_state=42)"
   ]
  },
  {
   "cell_type": "markdown",
   "id": "c299f68e",
   "metadata": {},
   "source": [
    "## Q 3.1"
   ]
  },
  {
   "cell_type": "code",
   "execution_count": 5,
   "id": "837942b5",
   "metadata": {},
   "outputs": [
    {
     "data": {
      "image/png": "[encoded data removed]",
      "text/plain": [
       "<Figure size 800x600 with 1 Axes>"
      ]
     },
     "metadata": {},
     "output_type": "display_data"
    },
    {
     "data": {
      "image/png": "[encoded data removed]",
      "text/plain": [
       "<Figure size 800x600 with 1 Axes>"
      ]
     },
     "metadata": {},
     "output_type": "display_data"
    },
    {
     "name": "stdout",
     "output_type": "stream",
     "text": [
      "Missing values in Fried Potato Consumption: 0\n",
      "Missing values in Alcohol Consumption: 0\n"
     ]
    }
   ],
   "source": [
    "# Plot histogram for 'Alcohol_Consumption'\n",
    "plt.figure(figsize=(8, 6))\n",
    "df['Alcohol_Consumption'].hist(bins=10, color='skyblue', edgecolor='black')\n",
    "plt.title('Histogram of Alcohol Consumption')\n",
    "plt.xlabel('Alcohol Consumption (Cups per month)')\n",
    "plt.ylabel('Number of People')\n",
    "plt.grid(False)\n",
    "plt.show()\n",
    "\n",
    "# Plot histogram for 'FriedPotato_Consumption'\n",
    "plt.figure(figsize=(8, 6))\n",
    "df['FriedPotato_Consumption'].hist(bins=10, color='lightgreen', edgecolor='black')\n",
    "plt.title('Histogram of Fried Potato Consumption')\n",
    "plt.xlabel('Fried Potato Consumption per month')\n",
    "plt.ylabel('Number of People')\n",
    "plt.grid(False)\n",
    "plt.show()\n",
    "missing_values_potato = df['FriedPotato_Consumption'].isnull().sum()\n",
    "missing_values_alcohol = df['Alcohol_Consumption'].isnull().sum()\n",
    "\n",
    "print(\"Missing values in Fried Potato Consumption:\", missing_values_potato)\n",
    "print(\"Missing values in Alcohol Consumption:\", missing_values_alcohol)"
   ]
  },
  {
   "cell_type": "code",
   "execution_count": 6,
   "id": "34af3e63",
   "metadata": {},
   "outputs": [
    {
     "name": "stdout",
     "output_type": "stream",
     "text": [
      "col_0            count\n",
      "Smoking_History       \n",
      "0                  119\n",
      "1                   81\n",
      "\n",
      "col_0       count\n",
      "Depression       \n",
      "0             164\n",
      "1              36\n"
     ]
    }
   ],
   "source": [
    "print(pd.crosstab(df['Smoking_History'], columns='count'))\n",
    "print()\n",
    "print(pd.crosstab(df['Depression'], columns='count'))\n"
   ]
  },
  {
   "cell_type": "markdown",
   "id": "b4fbe8c7",
   "metadata": {},
   "source": [
    "## Q 3.2\n",
    "1. Alcohol Consumption & Fried Potato:\n",
    "* We can notice some outliers and also that the data is not symmetrical.\n",
    "* We can see that there are no missing values. \n",
    "* We can assume data come from gaussian distribution with right tail.\n",
    "\n",
    "2. Smoking_History & Depression\n",
    "* No outliers since variables are binary\n",
    "* We can see that data is not symmetrical.\n",
    "* No missing values (sum up to 200).\n"
   ]
  },
  {
   "cell_type": "markdown",
   "id": "32483e01",
   "metadata": {},
   "source": [
    "## Q 3.3"
   ]
  },
  {
   "cell_type": "code",
   "execution_count": 7,
   "id": "920fbac3",
   "metadata": {},
   "outputs": [
    {
     "data": {
      "image/png": "[encoded data removed]",
      "text/plain": [
       "<Figure size 700x500 with 1 Axes>"
      ]
     },
     "metadata": {},
     "output_type": "display_data"
    },
    {
     "name": "stdout",
     "output_type": "stream",
     "text": [
      "We can't assume positive nor negative correlation between Alcohol Consumption and Fried Potato Consumption\n"
     ]
    }
   ],
   "source": [
    "# Plotting\n",
    "plt.figure(figsize=(7, 5))\n",
    "plt.scatter(x=df['FriedPotato_Consumption'], y=df['Alcohol_Consumption'], alpha=0.5)\n",
    "plt.title('Alcohol Consumption vs. Fried Potato Consumption')\n",
    "plt.xlabel('Fried Potato Consumption')\n",
    "plt.ylabel('Alcohol Consumption')\n",
    "plt.grid(True)\n",
    "plt.show()\n",
    "print(\"We can't assume positive nor negative correlation between Alcohol Consumption and Fried Potato Consumption\")"
   ]
  },
  {
   "cell_type": "code",
   "execution_count": 8,
   "id": "a9073f65",
   "metadata": {
    "scrolled": false
   },
   "outputs": [
    {
     "name": "stderr",
     "output_type": "stream",
     "text": [
      "/var/folders/6_/dhlq5ftj4c76n7p9cz2cjkyw0000gn/T/ipykernel_13905/1039594022.py:6: FutureWarning: \n",
      "\n",
      "Passing `palette` without assigning `hue` is deprecated and will be removed in v0.14.0. Assign the `x` variable to `hue` and set `legend=False` for the same effect.\n",
      "\n",
      "  sns.boxplot(x=df['Depression'], y=df['Alcohol_Consumption'], palette=colors)\n"
     ]
    },
    {
     "data": {
      "image/png": "[encoded data removed]",
      "text/plain": [
       "<Figure size 800x600 with 1 Axes>"
      ]
     },
     "metadata": {},
     "output_type": "display_data"
    }
   ],
   "source": [
    "# Define colors for each category of Depression\n",
    "colors = ['skyblue', 'salmon']\n",
    "\n",
    "# Box plot of Alcohol Consumption by Depression with different colors\n",
    "plt.figure(figsize=(8, 6))\n",
    "sns.boxplot(x=df['Depression'], y=df['Alcohol_Consumption'], palette=colors)\n",
    "plt.title(\"Depression vs Alcohol Consumption\")\n",
    "plt.xlabel(\"Depression\")\n",
    "plt.ylabel(\"Alcohol Consumption\")\n",
    "plt.show()"
   ]
  },
  {
   "cell_type": "code",
   "execution_count": 9,
   "id": "350386aa",
   "metadata": {},
   "outputs": [
    {
     "name": "stderr",
     "output_type": "stream",
     "text": [
      "/var/folders/6_/dhlq5ftj4c76n7p9cz2cjkyw0000gn/T/ipykernel_13905/476013996.py:5: FutureWarning: \n",
      "\n",
      "Passing `palette` without assigning `hue` is deprecated and will be removed in v0.14.0. Assign the `x` variable to `hue` and set `legend=False` for the same effect.\n",
      "\n",
      "  sns.boxplot(x=df['Smoking_History'], y=df['Alcohol_Consumption'], palette=colors, legend=False)\n"
     ]
    },
    {
     "data": {
      "image/png": "[encoded data removed]",
      "text/plain": [
       "<Figure size 800x600 with 1 Axes>"
      ]
     },
     "metadata": {},
     "output_type": "display_data"
    }
   ],
   "source": [
    "colors = ['skyblue', 'salmon']\n",
    "\n",
    "# Box plot of Alcohol Consumption by Depression with different colors\n",
    "plt.figure(figsize=(8, 6))\n",
    "sns.boxplot(x=df['Smoking_History'], y=df['Alcohol_Consumption'], palette=colors, legend=False)\n",
    "plt.title(\"Smoking History vs Alcohol Consumption\")\n",
    "plt.xlabel(\"Smoking History\")\n",
    "plt.ylabel(\"Alcohol Consumption\")\n",
    "\n",
    "plt.show()"
   ]
  },
  {
   "cell_type": "markdown",
   "id": "20c40219",
   "metadata": {},
   "source": [
    "## Q 4"
   ]
  },
  {
   "cell_type": "code",
   "execution_count": 10,
   "id": "48741add",
   "metadata": {},
   "outputs": [
    {
     "name": "stdout",
     "output_type": "stream",
     "text": [
      "y = 4.408915277098989 + -1.311272987454263 * x1 + 1.2845022838125948 * x2 + -0.03862935845846112 * x3\n"
     ]
    }
   ],
   "source": [
    "y = df['Alcohol_Consumption'].to_numpy()\n",
    "x = df[['Depression', 'Smoking_History', 'FriedPotato_Consumption']]\n",
    "x.insert(0, 'x0', 1)\n",
    "x = x.to_numpy()\n",
    "\n",
    "xTx = x.T @ x\n",
    "xTx_inv = np.linalg.inv(xTx)\n",
    "xTy = x.T @ y\n",
    "\n",
    "b = xTx_inv @ xTy\n",
    "\n",
    "print(f\"y = {b[0]} + {b[1]} * x1 + {b[2]} * x2 + {b[3]} * x3\")"
   ]
  },
  {
   "cell_type": "markdown",
   "id": "d1b44bf7",
   "metadata": {},
   "source": [
    "if x1 (Depression) increases by 1, y decreases by 1.311.\n",
    "\n",
    "if x2 (Smoking_History) is 1, y increases by 1.284.\n",
    "\n",
    "if x3 (FriedPotato_Consumption) increases by 1, y decreases by 0.03.\n"
   ]
  },
  {
   "cell_type": "markdown",
   "id": "924286d3",
   "metadata": {},
   "source": [
    "## Q 5"
   ]
  },
  {
   "cell_type": "code",
   "execution_count": 11,
   "id": "fb1836bf",
   "metadata": {},
   "outputs": [
    {
     "name": "stdout",
     "output_type": "stream",
     "text": [
      "ANOVA Table:\n"
     ]
    },
    {
     "data": {
      "text/html": [
       "<div>\n",
       "<style scoped>\n",
       "    .dataframe tbody tr th:only-of-type {\n",
       "        vertical-align: middle;\n",
       "    }\n",
       "\n",
       "    .dataframe tbody tr th {\n",
       "        vertical-align: top;\n",
       "    }\n",
       "\n",
       "    .dataframe thead th {\n",
       "        text-align: right;\n",
       "    }\n",
       "</style>\n",
       "<table border=\"1\" class=\"dataframe\">\n",
       "  <thead>\n",
       "    <tr style=\"text-align: right;\">\n",
       "      <th></th>\n",
       "      <th>Source of Variation</th>\n",
       "      <th>Sum of Squares</th>\n",
       "      <th>Degrees of Freedom</th>\n",
       "      <th>Mean Square</th>\n",
       "      <th>F-statistic</th>\n",
       "      <th>p-value</th>\n",
       "    </tr>\n",
       "  </thead>\n",
       "  <tbody>\n",
       "    <tr>\n",
       "      <th>0</th>\n",
       "      <td>Regression</td>\n",
       "      <td>178.749944</td>\n",
       "      <td>3</td>\n",
       "      <td>59.583315</td>\n",
       "      <td>1.095531</td>\n",
       "      <td>0.352174</td>\n",
       "    </tr>\n",
       "    <tr>\n",
       "      <th>1</th>\n",
       "      <td>Residual</td>\n",
       "      <td>10659.970056</td>\n",
       "      <td>196</td>\n",
       "      <td>54.387602</td>\n",
       "      <td></td>\n",
       "      <td></td>\n",
       "    </tr>\n",
       "    <tr>\n",
       "      <th>2</th>\n",
       "      <td>Total</td>\n",
       "      <td>10838.720000</td>\n",
       "      <td>199</td>\n",
       "      <td></td>\n",
       "      <td></td>\n",
       "      <td></td>\n",
       "    </tr>\n",
       "  </tbody>\n",
       "</table>\n",
       "</div>"
      ],
      "text/plain": [
       "  Source of Variation  Sum of Squares  Degrees of Freedom Mean Square  \\\n",
       "0          Regression      178.749944                   3   59.583315   \n",
       "1            Residual    10659.970056                 196   54.387602   \n",
       "2               Total    10838.720000                 199               \n",
       "\n",
       "  F-statistic   p-value  \n",
       "0    1.095531  0.352174  \n",
       "1                        \n",
       "2                        "
      ]
     },
     "execution_count": 11,
     "metadata": {},
     "output_type": "execute_result"
    }
   ],
   "source": [
    "# Define the number of observations and predictors\n",
    "n = len(y)\n",
    "k = x.shape[1] - 1  # Number of predictors \n",
    "p = x.shape[1]\n",
    "y_pred = x @ b\n",
    "\n",
    "# Calculate the Total Sum of Squares (SST)\n",
    "SST = np.sum((y - np.mean(y))**2)\n",
    "\n",
    "# Calculate the Regression Sum of Squares (SSR)\n",
    "SSR = np.sum((y_pred - np.mean(y))**2)\n",
    "\n",
    "# Calculate the Residual Sum of Squares (SSE)\n",
    "SSE = np.sum((y - y_pred)**2)\n",
    "\n",
    "# Calculate the Degrees of Freedom for Regression (dfR) and Residual (dfE)\n",
    "dfR = k\n",
    "dfE = n - p \n",
    "\n",
    "# Calculate the Mean Square Regression (MSR) and Mean Square Error (MSE)\n",
    "MSR = SSR / dfR\n",
    "MSE = SSE / dfE\n",
    "\n",
    "# Calculate the F-statistic\n",
    "F_statistic = MSR / MSE\n",
    "\n",
    "# Calculate the p-value\n",
    "p_value = 1 - stats.f.cdf(F_statistic, dfR, dfE) # maybe there is a mistake *****************************\n",
    "\n",
    "# Create the ANOVA table\n",
    "anova_table = pd.DataFrame({\n",
    "    'Source of Variation': ['Regression', 'Residual', 'Total'],\n",
    "    'Sum of Squares': [SSR, SSE, SST],\n",
    "    'Degrees of Freedom': [dfR, dfE, n - 1],\n",
    "    'Mean Square': [MSR, MSE, ''],\n",
    "    'F-statistic': [F_statistic, '', ''],\n",
    "    'p-value': [p_value, '', '']\n",
    "})\n",
    "\n",
    "print(\"ANOVA Table:\")\n",
    "anova_table\n"
   ]
  },
  {
   "cell_type": "markdown",
   "id": "0f222d5c",
   "metadata": {},
   "source": [
    "__From the ANOVA table, the observed p-value appears to be relatively high, indicating weak support against the null hypothesis.__"
   ]
  },
  {
   "cell_type": "code",
   "execution_count": 12,
   "id": "ec906a8c",
   "metadata": {},
   "outputs": [
    {
     "name": "stdout",
     "output_type": "stream",
     "text": [
      "R-squared: 0.9835082053731967\n",
      "Adjusted R-squared: 0.9832557799452354\n"
     ]
    }
   ],
   "source": [
    "R_squared = 1 - (SSR / SST)\n",
    "R_squared_adj = 1 - (SSR / SST) * ((n - 1) / (n - p))\n",
    "\n",
    "print(\"R-squared:\", R_squared)\n",
    "print(\"Adjusted R-squared:\", R_squared_adj)"
   ]
  },
  {
   "cell_type": "markdown",
   "id": "70c70ad0",
   "metadata": {},
   "source": [
    "# Q 6\n",
    "### Confidence Intervals"
   ]
  },
  {
   "cell_type": "code",
   "execution_count": 13,
   "id": "cc33a4bf",
   "metadata": {},
   "outputs": [],
   "source": [
    "def all_data(df):\n",
    "    # Calculating b0, b1, b2, b3 for all data\n",
    "    df = df[['FriedPotato_Consumption', 'Depression', 'Smoking_History', 'Alcohol_Consumption']]\n",
    "    df['Depression'] = df['Depression'].replace({'Yes': 1, 'No': 0})\n",
    "    df['Smoking_History'] = df['Smoking_History'].replace({'Yes': 1, 'No': 0})\n",
    "    y = df['Alcohol_Consumption'].to_numpy()\n",
    "    x = df[['Depression', 'Smoking_History', 'FriedPotato_Consumption']]\n",
    "    x.insert(0, 'x0', 1)\n",
    "    x = x.to_numpy()\n",
    "    xTx = x.T @ x\n",
    "    xTx_inv = np.linalg.inv(xTx)\n",
    "    xTy = x.T @ y\n",
    "    b = xTx_inv @ xTy\n",
    "    return b"
   ]
  },
  {
   "cell_type": "code",
   "execution_count": 15,
   "id": "e3d9ce6b",
   "metadata": {},
   "outputs": [
    {
     "name": "stdout",
     "output_type": "stream",
     "text": [
      "CI for beta 0 is: [2.943083740058616, 5.874746814139361]\n",
      "Is CI of beta 0 in sample data contains the estimator of original data: True\n",
      "\n",
      "CI for beta 1 is: [-3.9943570320234962, 1.3718110571149702]\n",
      "Is CI of beta 1 in sample data contains the estimator of original data: True\n",
      "\n",
      "CI for beta 2 is: [-0.806599737693894, 3.375604305319084]\n",
      "Is CI of beta 2 in sample data contains the estimator of original data: True\n",
      "\n",
      "CI for beta 3 is: [-0.11517437817120994, 0.037915661254287705]\n",
      "Is CI of beta 3 in sample data contains the estimator of original data: True\n",
      "\n"
     ]
    },
    {
     "name": "stderr",
     "output_type": "stream",
     "text": [
      "/var/folders/6_/dhlq5ftj4c76n7p9cz2cjkyw0000gn/T/ipykernel_13905/554367195.py:4: SettingWithCopyWarning: \n",
      "A value is trying to be set on a copy of a slice from a DataFrame.\n",
      "Try using .loc[row_indexer,col_indexer] = value instead\n",
      "\n",
      "See the caveats in the documentation: https://pandas.pydata.org/pandas-docs/stable/user_guide/indexing.html#returning-a-view-versus-a-copy\n",
      "  df['Depression'] = df['Depression'].replace({'Yes': 1, 'No': 0})\n",
      "/var/folders/6_/dhlq5ftj4c76n7p9cz2cjkyw0000gn/T/ipykernel_13905/554367195.py:5: SettingWithCopyWarning: \n",
      "A value is trying to be set on a copy of a slice from a DataFrame.\n",
      "Try using .loc[row_indexer,col_indexer] = value instead\n",
      "\n",
      "See the caveats in the documentation: https://pandas.pydata.org/pandas-docs/stable/user_guide/indexing.html#returning-a-view-versus-a-copy\n",
      "  df['Smoking_History'] = df['Smoking_History'].replace({'Yes': 1, 'No': 0})\n"
     ]
    }
   ],
   "source": [
    "alpha = 0.05\n",
    "z_alpha = stats.norm.ppf(1 - alpha / 2)\n",
    "P = np.dot(x.dot(xTx_inv), x.T)\n",
    "e = (np.eye(n) - P).dot(y)\n",
    "sigma_squared = (1 / (n - p)) * np.sum(e**2)\n",
    "cov = xTx_inv\n",
    "df_all = pd.read_csv('/Users/yardennahum/Statistics 2/Project 1/CVD_cleaned.csv')\n",
    "b_all = all_data(df_all)\n",
    "for i in range(4):\n",
    "    se_estimated = np.sqrt((sigma_squared * cov[i][i]))\n",
    "    CI_beta_i = [b[i] - z_alpha * se_estimated,b[i] + z_alpha * se_estimated]\n",
    "    print(f\"CI for beta {i} is: {CI_beta_i}\")\n",
    "    print(f\"Is CI of beta {i} in sample data contains the estimator of original data: \"\n",
    "      f\"{b_all[i] <= CI_beta_i[1] and b_all[i] >= CI_beta_i[0]}\\n\")\n",
    "    "
   ]
  },
  {
   "cell_type": "markdown",
   "id": "678f0042",
   "metadata": {},
   "source": [
    "# Q 7 \n",
    "## We will use Wald test in order to check whether b0, b1 b2 and b3 are not equal to zero.\n",
    "* n = 200 (sample size)\n",
    "* alpha = 0.05\n",
    "* H0: bi = 0 (i = 0, 1 ,2 3)\n",
    "* H1: b_i != 0 \n",
    "* T.S: W = (bi_ols - bi) / se\n",
    "* RR: |W| > z_alpha"
   ]
  },
  {
   "cell_type": "code",
   "execution_count": 62,
   "id": "245e01f9",
   "metadata": {},
   "outputs": [
    {
     "name": "stdout",
     "output_type": "stream",
     "text": [
      "Reject Ho: True\n",
      "p_value is: 3.1086244689504383e-15\n",
      "\n",
      "Reject Ho: False\n",
      "p_value is: 0.4841057504315054\n",
      "\n",
      "Reject Ho: False\n",
      "p_value is: 0.2591317882478177\n",
      "\n",
      "Reject Ho: True\n",
      "p_value is: 0.0\n",
      "\n"
     ]
    }
   ],
   "source": [
    "# Wald test for b0, b1, b2, b3:\n",
    "for i, beta in enumerate(b):\n",
    "    se_bi = sigma_squared * cov[i][i]\n",
    "    wald_statistic = beta / se_bi\n",
    "    ci_len = z_alpha * se_bi\n",
    "    p_value = 2 * (1 - stats.norm.cdf(abs(wald_statistic)))\n",
    "    print(f\"Reject Ho: {abs(wald_statistic) > z_alpha}\")\n",
    "    print(f\"p_value is: {p_value}\\n\")\n"
   ]
  },
  {
   "cell_type": "markdown",
   "id": "83cf5c63",
   "metadata": {},
   "source": [
    "# Q 8"
   ]
  },
  {
   "cell_type": "code",
   "execution_count": 63,
   "id": "10ded381",
   "metadata": {},
   "outputs": [
    {
     "data": {
      "image/png": "[encoded data removed]",
      "text/plain": [
       "<Figure size 640x480 with 1 Axes>"
      ]
     },
     "metadata": {},
     "output_type": "display_data"
    }
   ],
   "source": [
    "y_pred = x.dot(b)\n",
    "res = y - y_pred\n",
    "plt.scatter(y_pred, res)\n",
    "plt.axhline(y=np.mean(res), color='red', label=\"residuals mean value\")\n",
    "plt.xlabel(\"y_pred\")\n",
    "plt.ylabel(\"Residuals\")\n",
    "plt.title(\"Residuals plot\")\n",
    "plt.legend()\n",
    "plt.show()\n",
    "\n"
   ]
  },
  {
   "cell_type": "markdown",
   "id": "e9d48765",
   "metadata": {},
   "source": [
    "### Based on the observed pattern in the graph, it's apparent that the assumption of constant variance cannot be upheld. Additionally, the systematic deviation of data points above zero suggests a bias within the model."
   ]
  },
  {
   "cell_type": "code",
   "execution_count": 32,
   "id": "8a73f678",
   "metadata": {},
   "outputs": [
    {
     "data": {
      "image/png": "[encoded data removed]",
      "text/plain": [
       "<Figure size 640x480 with 1 Axes>"
      ]
     },
     "metadata": {},
     "output_type": "display_data"
    }
   ],
   "source": [
    "# Create Q-Q plot with lognormal distribution\n",
    "stats.probplot(res, dist=\"lognorm\", sparams=(1,), plot=plt)\n",
    "plt.title(\"Q-Q plot for normal Distribution\", fontweight=\"bold\", fontsize=14)\n",
    "plt.xlabel(\"Theoretical Quantiles\")\n",
    "plt.ylabel(\"Sample Quantiles\")\n",
    "plt.grid(True)\n",
    "plt.show()"
   ]
  },
  {
   "cell_type": "markdown",
   "id": "e5537291",
   "metadata": {},
   "source": [
    "### We can conclude from this graph that the residuals are approximately normally distributed."
   ]
  },
  {
   "cell_type": "markdown",
   "id": "f7dcdfc8",
   "metadata": {},
   "source": [
    "## Q 9"
   ]
  },
  {
   "cell_type": "code",
   "execution_count": 64,
   "id": "17599bba",
   "metadata": {},
   "outputs": [],
   "source": [
    "sampled_df = df\n",
    "# Get the indices of the previously sampled 200 samples\n",
    "sampled_indices = sampled_df.index\n",
    "\n",
    "# Drop the previously sampled indices from the original dataframe\n",
    "remaining_df = original_df.drop(sampled_indices)\n",
    "\n",
    "# Sample 1000 samples from the remaining dataframe\n",
    "new_sample_df = remaining_df.sample(n=1000, random_state=42)  # Adjust the random_state as needed\n",
    "\n",
    "# Now new_sample_df contains 1000 samples not included in the previous 200 samples\n"
   ]
  },
  {
   "cell_type": "markdown",
   "id": "0b56768a",
   "metadata": {},
   "source": [
    "### Q9.1"
   ]
  },
  {
   "cell_type": "code",
   "execution_count": 65,
   "id": "f255f410",
   "metadata": {},
   "outputs": [],
   "source": [
    "x_new = new_sample_df[['Depression', 'Smoking_History', 'FriedPotato_Consumption']]\n",
    "x_new.insert(0, 'x0', 1)\n",
    "x_new = x_new.to_numpy()\n",
    "\n",
    "# Calculating predicted y-values for each sample in x_new\n",
    "y_pred_new = x_new.dot(b)\n",
    "y_new = new_sample_df['Alcohol_Consumption'].to_numpy()\n"
   ]
  },
  {
   "cell_type": "markdown",
   "id": "e3523b85",
   "metadata": {},
   "source": [
    "### Q 9.2 + 9.3"
   ]
  },
  {
   "cell_type": "code",
   "execution_count": 66,
   "id": "fe37eff0",
   "metadata": {},
   "outputs": [
    {
     "name": "stdout",
     "output_type": "stream",
     "text": [
      "Appeared in the CI 90.2%\n"
     ]
    }
   ],
   "source": [
    "alpha = 0.05\n",
    "n = 1000\n",
    "p = 4\n",
    "x_newTx_new = x_new.T @ x_new\n",
    "xTx_inv = np.linalg.inv(x_newTx_new)\n",
    "xTy = x_new.T @ y_new\n",
    "z_alpha = stats.norm.ppf(1 - alpha / 2)\n",
    "\n",
    "res = y_new - y_pred_new\n",
    "sigma_squared = (1 / (n - p)) * np.sum(res**2)\n",
    "counter = 0 \n",
    "for i in range(len(y_new)):\n",
    "    yi = y_pred_new[i]\n",
    "    x_c = x_new[i]\n",
    "    x_c_xt = np.dot(x_new[i] @ cov, x_new[i].T)\n",
    "    ci_elem = z_alpha * (sigma_squared * x_c_xt + sigma_squared)**0.5    \n",
    "    CI = [yi - ci_elem, yi + ci_elem]\n",
    "    if y_new[i] >= CI[0] and y_new[i] <= CI[1]:\n",
    "        counter += 1\n",
    "print(f\"Appeared in the CI {(counter / n) * 100}%\")   "
   ]
  },
  {
   "cell_type": "markdown",
   "id": "4db78df3",
   "metadata": {},
   "source": [
    "**This outcome might imply that our model's performance is inadequate. A satisfactory model would ideally yield around 95% accuracy.**"
   ]
  },
  {
   "cell_type": "markdown",
   "id": "2529835b",
   "metadata": {},
   "source": [
    "## Q 10"
   ]
  },
  {
   "cell_type": "markdown",
   "id": "3d9e24b1",
   "metadata": {},
   "source": [
    "We will use Mallow's statistic and R adjusted in order to compare the models"
   ]
  },
  {
   "cell_type": "code",
   "execution_count": 67,
   "id": "654a35ca",
   "metadata": {},
   "outputs": [
    {
     "name": "stdout",
     "output_type": "stream",
     "text": [
      "Old Model:\n",
      "Mallow's Cp: 55.47535437172156\n",
      "Adjusted R-squared: 0.9834585312929955\n"
     ]
    }
   ],
   "source": [
    "def calc_mallow(y, y_pred, b):\n",
    "    # Get the number of observations\n",
    "    n = len(y)\n",
    "\n",
    "    # Calculate the residual sum of squares (RSS)\n",
    "    RSS = np.sum((y - y_pred) ** 2)\n",
    "\n",
    "    # Calculate the error variance\n",
    "    sigma_sq = RSS / (n - len(b))\n",
    "\n",
    "    # Calculate Mallow's Cp\n",
    "    Cp = (1 / n) * (RSS + 2 * len(b) * sigma_sq)\n",
    "    \n",
    "    return Cp\n",
    "\n",
    "old_model_mallow = calc_mallow(y, x.dot(b), b)\n",
    "R_squared_adj = 1 - (SSR / SST) * ((n - 1) / (n - p))\n",
    "\n",
    "print(\"Old Model:\")\n",
    "print(\"Mallow's Cp:\", old_model_mallow)    \n",
    "print(\"Adjusted R-squared:\", R_squared_adj)"
   ]
  },
  {
   "cell_type": "code",
   "execution_count": 68,
   "id": "21cad9a2",
   "metadata": {},
   "outputs": [
    {
     "name": "stdout",
     "output_type": "stream",
     "text": [
      "The new model is:\n",
      " \n",
      "y = 4.435848175898315 + -1.3775366729829113 * x1 + 1.554107764572669 * x2 + -0.05032642864752958 * x3 + -0.8021865514126102 * z12 +0.05775137355005145 * z13 + -0.0233546732996699 * z23\n"
     ]
    }
   ],
   "source": [
    "# Creating Z12, Z13, Z23:\n",
    "sampled_df['z12'] = sampled_df['Depression'] * sampled_df['Smoking_History']\n",
    "sampled_df['z13'] = sampled_df['Depression'] * sampled_df['FriedPotato_Consumption']\n",
    "sampled_df['z23'] = sampled_df['Smoking_History'] * sampled_df['FriedPotato_Consumption']\n",
    "\n",
    "y = sampled_df['Alcohol_Consumption'].to_numpy()\n",
    "x = sampled_df[['Depression', 'Smoking_History', 'FriedPotato_Consumption', 'z12', 'z13', 'z23']]\n",
    "x.insert(0, 'x0', 1)\n",
    "x = x.to_numpy()\n",
    "\n",
    "xTx = x.T @ x\n",
    "xTx_inv = np.linalg.inv(xTx)\n",
    "xTy = x.T @ y\n",
    "b_inter = xTx_inv @ xTy\n",
    "y_pred_inter = x.dot(b_inter)\n",
    "print(\"The new model is:\\n \")\n",
    "print(f\"y = {b_inter[0]} + {b_inter[1]} * x1 + {b_inter[2]} * x2 + {b_inter[3]} * x3 + {b_inter[4]} * z12 +\" \n",
    "      f\"{b_inter[5]} * z13 + {b_inter[6]} * z23\")"
   ]
  },
  {
   "cell_type": "code",
   "execution_count": 69,
   "id": "1fc6893c",
   "metadata": {},
   "outputs": [
    {
     "name": "stdout",
     "output_type": "stream",
     "text": [
      "New Model:\n",
      "Mallow's Cp: 57.0589407389388\n",
      "Adjusted R-squared: 0.9816083230921959\n"
     ]
    }
   ],
   "source": [
    "# Calculating R adjusted:\n",
    "\n",
    "# Calculate the Total Sum of Squares (SST)\n",
    "SST = np.sum((y - np.mean(y))**2)\n",
    "\n",
    "# Calculate the Regression Sum of Squares (SSR)\n",
    "SSR = np.sum((x @ b_inter - np.mean(y))**2)\n",
    "\n",
    "R_squared_adj = 1 - (SSR / SST) * ((n - 1) / (n - p))\n",
    "cp = calc_mallow(y, y_pred_inter, b_inter)\n",
    "print(\"New Model:\")\n",
    "print(\"Mallow's Cp:\", cp)    \n",
    "print(\"Adjusted R-squared:\", R_squared_adj)"
   ]
  },
  {
   "cell_type": "markdown",
   "id": "b55b8899",
   "metadata": {},
   "source": [
    "__Both models have very similar R adjusted and mallow's statistic, but by mallows satistic we should prefer the first model over the new one.__\n",
    "\n",
    "__The difference in R adjusted is not significant.__"
   ]
  },
  {
   "cell_type": "markdown",
   "id": "21eb2acb",
   "metadata": {},
   "source": [
    "# Part 2 Logistic Regression"
   ]
  },
  {
   "cell_type": "markdown",
   "id": "05feccfe",
   "metadata": {},
   "source": [
    "## Q 1"
   ]
  },
  {
   "cell_type": "markdown",
   "id": "df06585b",
   "metadata": {},
   "source": [
    "#### Explanatory Variables:\n",
    "* x1: Height (Continuous)\n",
    "* x2: Weight (Continuous)\n",
    "* x3: Smoking History (Binary)\n",
    "\n",
    "#### Explained Variable:\n",
    "* Y = Heart Disease (Binary)\n",
    "\n",
    "### Research Question:\n",
    "* Is there an association between height, weight, smoking history, and the occurrence of heart disease?"
   ]
  },
  {
   "cell_type": "code",
   "execution_count": 70,
   "id": "e7d642a3",
   "metadata": {},
   "outputs": [
    {
     "data": {
      "text/html": [
       "<div>\n",
       "<style scoped>\n",
       "    .dataframe tbody tr th:only-of-type {\n",
       "        vertical-align: middle;\n",
       "    }\n",
       "\n",
       "    .dataframe tbody tr th {\n",
       "        vertical-align: top;\n",
       "    }\n",
       "\n",
       "    .dataframe thead th {\n",
       "        text-align: right;\n",
       "    }\n",
       "</style>\n",
       "<table border=\"1\" class=\"dataframe\">\n",
       "  <thead>\n",
       "    <tr style=\"text-align: right;\">\n",
       "      <th></th>\n",
       "      <th>Height_(cm)</th>\n",
       "      <th>Weight_(kg)</th>\n",
       "      <th>Smoking_History</th>\n",
       "      <th>Heart_Disease</th>\n",
       "    </tr>\n",
       "  </thead>\n",
       "  <tbody>\n",
       "    <tr>\n",
       "      <th>0</th>\n",
       "      <td>150.0</td>\n",
       "      <td>32.66</td>\n",
       "      <td>1</td>\n",
       "      <td>0</td>\n",
       "    </tr>\n",
       "    <tr>\n",
       "      <th>1</th>\n",
       "      <td>165.0</td>\n",
       "      <td>77.11</td>\n",
       "      <td>0</td>\n",
       "      <td>1</td>\n",
       "    </tr>\n",
       "    <tr>\n",
       "      <th>2</th>\n",
       "      <td>163.0</td>\n",
       "      <td>88.45</td>\n",
       "      <td>0</td>\n",
       "      <td>0</td>\n",
       "    </tr>\n",
       "    <tr>\n",
       "      <th>3</th>\n",
       "      <td>180.0</td>\n",
       "      <td>93.44</td>\n",
       "      <td>0</td>\n",
       "      <td>1</td>\n",
       "    </tr>\n",
       "    <tr>\n",
       "      <th>4</th>\n",
       "      <td>191.0</td>\n",
       "      <td>88.45</td>\n",
       "      <td>1</td>\n",
       "      <td>0</td>\n",
       "    </tr>\n",
       "    <tr>\n",
       "      <th>...</th>\n",
       "      <td>...</td>\n",
       "      <td>...</td>\n",
       "      <td>...</td>\n",
       "      <td>...</td>\n",
       "    </tr>\n",
       "    <tr>\n",
       "      <th>308849</th>\n",
       "      <td>168.0</td>\n",
       "      <td>81.65</td>\n",
       "      <td>0</td>\n",
       "      <td>0</td>\n",
       "    </tr>\n",
       "    <tr>\n",
       "      <th>308850</th>\n",
       "      <td>180.0</td>\n",
       "      <td>69.85</td>\n",
       "      <td>0</td>\n",
       "      <td>0</td>\n",
       "    </tr>\n",
       "    <tr>\n",
       "      <th>308851</th>\n",
       "      <td>157.0</td>\n",
       "      <td>61.23</td>\n",
       "      <td>1</td>\n",
       "      <td>0</td>\n",
       "    </tr>\n",
       "    <tr>\n",
       "      <th>308852</th>\n",
       "      <td>183.0</td>\n",
       "      <td>79.38</td>\n",
       "      <td>0</td>\n",
       "      <td>0</td>\n",
       "    </tr>\n",
       "    <tr>\n",
       "      <th>308853</th>\n",
       "      <td>160.0</td>\n",
       "      <td>81.19</td>\n",
       "      <td>0</td>\n",
       "      <td>0</td>\n",
       "    </tr>\n",
       "  </tbody>\n",
       "</table>\n",
       "<p>308854 rows × 4 columns</p>\n",
       "</div>"
      ],
      "text/plain": [
       "        Height_(cm)  Weight_(kg)  Smoking_History  Heart_Disease\n",
       "0             150.0        32.66                1              0\n",
       "1             165.0        77.11                0              1\n",
       "2             163.0        88.45                0              0\n",
       "3             180.0        93.44                0              1\n",
       "4             191.0        88.45                1              0\n",
       "...             ...          ...              ...            ...\n",
       "308849        168.0        81.65                0              0\n",
       "308850        180.0        69.85                0              0\n",
       "308851        157.0        61.23                1              0\n",
       "308852        183.0        79.38                0              0\n",
       "308853        160.0        81.19                0              0\n",
       "\n",
       "[308854 rows x 4 columns]"
      ]
     },
     "execution_count": 70,
     "metadata": {},
     "output_type": "execute_result"
    }
   ],
   "source": [
    "df_original_2 = pd.read_csv('/Users/yardennahum/Statistics 2/Project 1/CVD_cleaned.csv')\\\n",
    "                [['Height_(cm)','Weight_(kg)', 'Smoking_History', 'Heart_Disease' ]]\n",
    "\n",
    "# Transforming df\n",
    "df_original_2['Smoking_History'] = df_original_2['Smoking_History'].replace({'Yes': 1, 'No': 0})\n",
    " \n",
    "df_original_2['Heart_Disease'] = df_original_2['Heart_Disease'].replace({'Yes': 1, 'No': 0})\n",
    "df_original_2"
   ]
  },
  {
   "cell_type": "markdown",
   "id": "a1bd9802",
   "metadata": {},
   "source": [
    "## Q 2"
   ]
  },
  {
   "cell_type": "code",
   "execution_count": 71,
   "id": "3813db7c",
   "metadata": {},
   "outputs": [],
   "source": [
    "df_sam_2 = df_original_2.sample(n=200, random_state=42)"
   ]
  },
  {
   "cell_type": "markdown",
   "id": "dbffacaf",
   "metadata": {},
   "source": [
    "## Q 3.1\n",
    "* In part 1 we have already examined the variable \"Smoking History.\""
   ]
  },
  {
   "cell_type": "code",
   "execution_count": 72,
   "id": "ba925f36",
   "metadata": {},
   "outputs": [
    {
     "data": {
      "image/png": "[encoded data removed]",
      "text/plain": [
       "<Figure size 800x600 with 1 Axes>"
      ]
     },
     "metadata": {},
     "output_type": "display_data"
    },
    {
     "data": {
      "image/png": "[encoded data removed]",
      "text/plain": [
       "<Figure size 800x600 with 1 Axes>"
      ]
     },
     "metadata": {},
     "output_type": "display_data"
    }
   ],
   "source": [
    "# Plot histogram for Height\n",
    "plt.figure(figsize=(8, 6))\n",
    "plt.hist(df_sam_2['Height_(cm)'], bins=15, color='skyblue', edgecolor='black')\n",
    "plt.title('Histogram of Height')\n",
    "plt.xlabel('Height (cm)')\n",
    "plt.ylabel('Frequency')\n",
    "plt.grid(False)  # Removing grid lines\n",
    "plt.show()\n",
    "\n",
    "# Plot histogram for Weight\n",
    "plt.figure(figsize=(8, 6))\n",
    "plt.hist(df_sam_2['Weight_(kg)'], bins=15, color='salmon', edgecolor='black')\n",
    "plt.title('Histogram of Weight')\n",
    "plt.xlabel('Weight (kg)')\n",
    "plt.ylabel('Frequency')\n",
    "plt.grid(False)  # Removing grid lines\n",
    "plt.show()\n"
   ]
  },
  {
   "cell_type": "code",
   "execution_count": 73,
   "id": "485e1a8c",
   "metadata": {},
   "outputs": [
    {
     "name": "stdout",
     "output_type": "stream",
     "text": [
      "col_0            count\n",
      "Smoking_History       \n",
      "0                  119\n",
      "1                   81\n",
      "\n",
      "col_0          count\n",
      "Heart_Disease       \n",
      "0                188\n",
      "1                 12\n"
     ]
    }
   ],
   "source": [
    "# Tables for Smoking_History and Heart Disease\n",
    "print(pd.crosstab(df_sam_2['Smoking_History'], columns='count'))\n",
    "print()\n",
    "print(pd.crosstab(df_sam_2['Heart_Disease'], columns='count'))"
   ]
  },
  {
   "cell_type": "code",
   "execution_count": 74,
   "id": "cdf0b044",
   "metadata": {},
   "outputs": [
    {
     "name": "stdout",
     "output_type": "stream",
     "text": [
      "Missing values in 'Height_(cm)': 0\n",
      "Missing values in 'Weight_(kg)': 0\n"
     ]
    }
   ],
   "source": [
    "# Check for missing values in 'Height_(cm)' column\n",
    "missing_height = df_sam_2['Height_(cm)'].isnull().sum()\n",
    "print(\"Missing values in 'Height_(cm)':\", missing_height)\n",
    "\n",
    "# Check for missing values in 'Weight_(kg)' column\n",
    "missing_weight = df_sam_2['Weight_(kg)'].isnull().sum()\n",
    "print(\"Missing values in 'Weight_(kg)':\", missing_weight)"
   ]
  },
  {
   "cell_type": "markdown",
   "id": "75ff3f50",
   "metadata": {},
   "source": [
    "## Q 3.2\n",
    "\n",
    "**1. Weight_(kg) & Height_(cm):**\n",
    "* From both the histograms depicting weight and height, it is evident that they follow a roughly normal distribution. Additionally, outliers are present, and the distribution appears to be approximately symmetrical.\n",
    "\n",
    "**2. Smoking_History & Heart Disease:**\n",
    "* No outliers since variables are binary\n",
    "* We can see that data is not symmetrical.\n",
    "* No missing values (sum up to 200).\n"
   ]
  },
  {
   "cell_type": "markdown",
   "id": "72f18afe",
   "metadata": {},
   "source": [
    "## Q 3.3"
   ]
  },
  {
   "cell_type": "code",
   "execution_count": 75,
   "id": "8d574991",
   "metadata": {},
   "outputs": [
    {
     "data": {
      "image/png": "[encoded data removed]",
      "text/plain": [
       "<Figure size 640x480 with 1 Axes>"
      ]
     },
     "metadata": {},
     "output_type": "display_data"
    },
    {
     "data": {
      "image/png": "[encoded data removed]",
      "text/plain": [
       "<Figure size 640x480 with 1 Axes>"
      ]
     },
     "metadata": {},
     "output_type": "display_data"
    }
   ],
   "source": [
    "# Height vs Heart Disease\n",
    "sns.boxplot(x=df_sam_2['Heart_Disease'], y=df_sam_2['Height_(cm)'])\n",
    "plt.title('Height vs Heart Disease')\n",
    "plt.show()\n",
    "\n",
    "# Weight vs Heart Disease\n",
    "sns.boxplot(x=df_sam_2['Heart_Disease'], y=df_sam_2['Weight_(kg)'])\n",
    "plt.title('Weight vs Heart Disease')\n",
    "plt.show()\n"
   ]
  },
  {
   "cell_type": "markdown",
   "id": "7eb38d64",
   "metadata": {},
   "source": [
    "* **In interpreting the box plot for weight versus heart disease, it suggests that individuals weighing above 90 kg are more likely to have heart disease. However, in the case of height, the box plot indicates similar distributions for individuals with and without heart disease, making it challenging to discern the extent of influence of this variable on heart disease.**\n",
    "* **At present, it appears that weight exerts a greater influence on heart disease compared to height.**\n"
   ]
  },
  {
   "cell_type": "markdown",
   "id": "001a0d78",
   "metadata": {},
   "source": [
    "## Q 4"
   ]
  },
  {
   "cell_type": "code",
   "execution_count": 120,
   "id": "a11cd9d0",
   "metadata": {},
   "outputs": [
    {
     "name": "stdout",
     "output_type": "stream",
     "text": [
      "y = 2.4444399234612795 + -0.04108272001334168 * x1 + 0.016468727233264265 * x2 + 0.7584120417421801 * x3\n"
     ]
    }
   ],
   "source": [
    "x = df_sam_2[['Height_(cm)', 'Weight_(kg)', 'Smoking_History']]\n",
    "x.insert(0, 'x0', 1)\n",
    "x = x.to_numpy()\n",
    "y = df_sam_2['Heart_Disease'].to_numpy()\n",
    "reg = LogisticRegression(penalty='none', fit_intercept=False).fit(x, y)\n",
    "b = reg.coef_[0]\n",
    "\n",
    "# print y = b0 + b1*x1 + b2*x2 + b3*x3 + b4*x4\n",
    "print(f\"y = {b[0]} + {b[1]} * x1 + {b[2]} * x2 + {b[3]} * x3\")"
   ]
  },
  {
   "cell_type": "markdown",
   "id": "b33ca447",
   "metadata": {},
   "source": [
    "**As we saw, in logistic regression we look at odds ratio:**\n",
    "* if x1 (Height) increase by 1, the influence is exp(b1) = 0.959\n",
    "* if x2 (Weight) increase by 1, the influence is exp(b2) = 1.01\n",
    "* if x3 (Smoking History) is 1, the influence is exp(b3) = 2.13"
   ]
  },
  {
   "cell_type": "markdown",
   "id": "b06b6ff9",
   "metadata": {},
   "source": [
    "## Q 5"
   ]
  },
  {
   "cell_type": "code",
   "execution_count": 122,
   "id": "3d2b8664",
   "metadata": {},
   "outputs": [],
   "source": [
    "# Calculating b_ols based on all of the data:\n",
    "x_all = df_original_2[['Height_(cm)', 'Weight_(kg)', 'Smoking_History']]\n",
    "x_all.insert(0, 'x0', 1)\n",
    "x_all = x_all.to_numpy()\n",
    "y_all = df_original_2['Heart_Disease'].to_numpy()\n",
    "reg = LogisticRegression(penalty='none', fit_intercept=False).fit(x_all, y_all)\n",
    "b_all = reg.coef_[0]\n"
   ]
  },
  {
   "cell_type": "code",
   "execution_count": 123,
   "id": "17761e43",
   "metadata": {},
   "outputs": [],
   "source": [
    "def pi(i):\n",
    "    bT_x = b.T @ x[i]\n",
    "    return np.exp(bT_x) / (1 + np.exp(bT_x))"
   ]
  },
  {
   "cell_type": "code",
   "execution_count": 124,
   "id": "15917568",
   "metadata": {},
   "outputs": [
    {
     "name": "stdout",
     "output_type": "stream",
     "text": [
      "CI for beta0 is: [-6.510441541028046, 11.399321387950605]\n",
      "Is the CI of beta0 in sampled data contains the estimator of all data: True\n",
      "\n",
      "CI for beta1 is: [-0.09910818261618906, 0.016942742589505698]\n",
      "Is the CI of beta1 in sampled data contains the estimator of all data: True\n",
      "\n",
      "CI for beta2 is: [-0.008373682494362003, 0.04131113696089053]\n",
      "Is the CI of beta2 in sampled data contains the estimator of all data: True\n",
      "\n",
      "CI for beta3 is: [-0.4383951287694944, 1.9552192122538545]\n",
      "Is the CI of beta3 in sampled data contains the estimator of all data: True\n",
      "\n"
     ]
    }
   ],
   "source": [
    "diagonal = [pi(i)*(1 - pi(i)) for i in range(x.shape[0])]\n",
    "V = np.diag(diagonal)\n",
    "C = np.linalg.inv(x.T @ V @ x)\n",
    "\n",
    "for i in range(4):\n",
    "    se = (C[i][i])**0.5\n",
    "    CI_beta_i = [b[i] - z_alpha * se, b[i] + z_alpha * se]\n",
    "    print(f\"CI for beta{i} is: {CI_beta_i}\")\n",
    "    print(f\"Is the CI of beta{i} in sampled data contains the estimator of all data: \"\n",
    "          f\"{b_all[i] > CI_beta_i[0] and b_all[i] < CI_beta_i[1]}\\n\")\n",
    "\n",
    "    "
   ]
  },
  {
   "cell_type": "markdown",
   "id": "d05665cc",
   "metadata": {},
   "source": [
    "# Q 6"
   ]
  },
  {
   "cell_type": "code",
   "execution_count": 125,
   "id": "7f50971a",
   "metadata": {},
   "outputs": [
    {
     "name": "stdout",
     "output_type": "stream",
     "text": [
      "y = 0.0005664856558846244 + -0.025240313195967885 * x1 + 0.032756713643846906 * x2 + 0.00021302007656787069 * x3 +       -0.00011224964004561289 * x4 + 0.0032019885033792704 * x5 + 0.00266568501382226 * x6\n"
     ]
    }
   ],
   "source": [
    "# Adding more variables to the model z12 = x1*x2, z13 = x1*x3 and z23 = x2*x3:\n",
    "df_sam_2['z12'] = df_sam_2['Height_(cm)'] * df_sam_2['Weight_(kg)']\n",
    "df_sam_2['z13'] = df_sam_2['Height_(cm)'] * df_sam_2['Smoking_History']\n",
    "df_sam_2['z23'] = df_sam_2['Weight_(kg)'] * df_sam_2['Smoking_History']\n",
    "\n",
    "\n",
    "# calculate the coefficient b1, b2, b3, b4, b5, b6, b7 and the intercept a (b0)\n",
    "x_new = df_sam_2[['Height_(cm)', 'Weight_(kg)', 'Smoking_History', 'z12', 'z13', 'z23']]\n",
    "x_new.insert(0, 'x0', 1)\n",
    "x_new = x_new.to_numpy()\n",
    "y_new = df_sam_2['Heart_Disease'].to_numpy()\n",
    "\n",
    "model_new = LogisticRegression(penalty='none', fit_intercept=False).fit(x_new, y_new)\n",
    "b_new = model_new.coef_[0]\n",
    "print(f\"y = {b_new[0]} + {b_new[1]} * x1 + {b_new[2]} * x2 + {b_new[3]} * x3 +       \"\n",
    "      f\"{b_new[4]} * x4 + {b_new[5]} * x5 + {b_new[6]} * x6\")\n"
   ]
  },
  {
   "cell_type": "code",
   "execution_count": 129,
   "id": "d1bf106f",
   "metadata": {},
   "outputs": [
    {
     "name": "stdout",
     "output_type": "stream",
     "text": [
      "Reject H0: False\n"
     ]
    }
   ],
   "source": [
    "# Likelihood Ratio Test between the models\n",
    "# H0: b12 = b13 = b23 = 0\n",
    "# H1: b12!=0 or b13!=0 or b23!=0\n",
    "# Chi has 3 degrees of freedom because we have 3 more variables (z12, z13, z23) in the alternative model.\n",
    "pi_h1 = np.exp(x_new.dot(b_new.T)) / (1 + np.exp(x_new.dot(b_new.T)))\n",
    "l_h1 = pi_h1 ** y_new * (1 - pi_h1) ** (1 - y_new)\n",
    "\n",
    "pi_h0 = np.exp(x.dot(b.T)) / (1 + np.exp(x.dot(b.T)))\n",
    "l_h0 = pi_h0 ** y * (1 - pi_h0) ** (1 - y)\n",
    "\n",
    "likelihood_ratio = 2 * (np.sum(np.log(l_h1)) - np.sum(np.log(l_h0)))\n",
    "\n",
    "\n",
    "print(f'Reject H0: {np.abs(likelihood_ratio) > chi2.ppf(0.95, 3)}')"
   ]
  },
  {
   "cell_type": "code",
   "execution_count": 132,
   "id": "ab43985f",
   "metadata": {},
   "outputs": [
    {
     "name": "stdout",
     "output_type": "stream",
     "text": [
      "AIC for the old model (h0): -47.45359618653955\n",
      "AIC for the new model with interactions (h1): -50.550026010904915\n"
     ]
    }
   ],
   "source": [
    "# Calculating AIC:\n",
    "AIC_h0 = np.sum(y * x.dot(b.T) - np.log(1 + np.exp(x.dot(b.T)))) - 4\n",
    "AIC_h1 = np.sum(y * x_new.dot(b_new.T) - np.log(1 + np.exp(x_new.dot(b_new.T)))) - 7\n",
    "\n",
    "print(\"AIC for the old model (h0):\", AIC_h0)\n",
    "print(\"AIC for the new model with interactions (h1):\", AIC_h1)"
   ]
  },
  {
   "cell_type": "markdown",
   "id": "1e1a0bcf",
   "metadata": {},
   "source": [
    "__As we can see by the Likelihood Ratio Test, we don't reject H0, that means that b12 = b13 = b23 = 0\n",
    "Moreover, according to the AIC, the old model is slightly better than the new model.__"
   ]
  },
  {
   "cell_type": "markdown",
   "id": "f2f566ed",
   "metadata": {},
   "source": [
    "## Q 7"
   ]
  },
  {
   "cell_type": "code",
   "execution_count": 252,
   "id": "a888dcd0",
   "metadata": {
    "scrolled": true
   },
   "outputs": [
    {
     "name": "stdout",
     "output_type": "stream",
     "text": [
      "Number of columns: 19\n"
     ]
    }
   ],
   "source": [
    "df_q_7 =  pd.read_csv('/Users/yardennahum/Statistics 2/Project 1/CVD_cleaned.csv')\n",
    "df_q_7\n",
    "num_cols = df_q_7.shape[1]\n",
    "print(\"Number of columns:\", num_cols)"
   ]
  },
  {
   "cell_type": "code",
   "execution_count": 260,
   "id": "17316101",
   "metadata": {},
   "outputs": [],
   "source": [
    "# Data has only 19 cols, so we need to extend it:\n",
    "df_q_7 = df_q_7.sample(n=200, random_state=1)\n",
    "\n",
    "df_q_7['Heart_Disease'].replace({'Yes': 1, 'No': 0}, inplace=True)\n",
    "\n",
    "# x = df_q_7[['Height_(cm)', 'Smoking_History','Weight_(kg)', 'Alcohol_Consumption', 'Fruit_Consumption']]\n",
    "y = df_q_7['Heart_Disease'].to_numpy()\n"
   ]
  },
  {
   "cell_type": "code",
   "execution_count": 261,
   "id": "0cfca604",
   "metadata": {},
   "outputs": [],
   "source": [
    "# Adding all first order polynomials to the data using combinations itertools\n",
    "from itertools import combinations\n",
    "\n",
    "# Ensure numeric columns\n",
    "numeric_cols = ['Height_(cm)', 'Weight_(kg)', 'BMI', 'Alcohol_Consumption', 'Fruit_Consumption',\n",
    "                'Green_Vegetables_Consumption', 'FriedPotato_Consumption']\n",
    "df_q_7[numeric_cols] = df_q_7[numeric_cols].apply(pd.to_numeric, errors='coerce')\n",
    "\n",
    "# Data has only 19 cols, so we need to extend it:\n",
    "df_q_7 = df_q_7.sample(n=200, random_state=42)\n",
    "\n",
    "# Convert categorical columns to binary\n",
    "binary_cols = ['Smoking_History', 'Heart_Disease', 'Exercise', 'Skin_Cancer',\n",
    "               'Other_Cancer', 'Arthritis', 'Sex', 'Depression']\n",
    "for col in binary_cols:\n",
    "    df_q_7[col] = df_q_7[col].replace(['Yes', 'No', 'Male', 'Female'], [1, 0, 1, 0])\n",
    "\n",
    "# Define columns\n",
    "cols = ['Exercise', 'Skin_Cancer', 'Other_Cancer', 'Depression', 'Arthritis', 'Sex'] + numeric_cols\n",
    "\n",
    "# Create DataFrame x\n",
    "x = df_q_7[cols].copy()\n",
    "\n",
    "# Add polynomial terms\n",
    "for i in range(2, 5):\n",
    "    for combo in combinations(cols, i):\n",
    "        col_name = '*'.join(combo)\n",
    "        x[col_name] = x[list(combo)].prod(axis=1)\n",
    "\n",
    "# Insert intercept column\n",
    "x.insert(0, 'x0', 1)\n",
    "x = x.iloc[:, :31]"
   ]
  },
  {
   "cell_type": "code",
   "execution_count": 262,
   "id": "7b4798e7",
   "metadata": {},
   "outputs": [
    {
     "data": {
      "text/html": [
       "<div>\n",
       "<style scoped>\n",
       "    .dataframe tbody tr th:only-of-type {\n",
       "        vertical-align: middle;\n",
       "    }\n",
       "\n",
       "    .dataframe tbody tr th {\n",
       "        vertical-align: top;\n",
       "    }\n",
       "\n",
       "    .dataframe thead th {\n",
       "        text-align: right;\n",
       "    }\n",
       "</style>\n",
       "<table border=\"1\" class=\"dataframe\">\n",
       "  <thead>\n",
       "    <tr style=\"text-align: right;\">\n",
       "      <th></th>\n",
       "      <th>x0</th>\n",
       "      <th>Exercise</th>\n",
       "      <th>Skin_Cancer</th>\n",
       "      <th>Other_Cancer</th>\n",
       "      <th>Depression</th>\n",
       "      <th>Arthritis</th>\n",
       "      <th>Sex</th>\n",
       "      <th>Height_(cm)</th>\n",
       "      <th>Weight_(kg)</th>\n",
       "      <th>BMI</th>\n",
       "      <th>...</th>\n",
       "      <th>Exercise*BMI</th>\n",
       "      <th>Exercise*Alcohol_Consumption</th>\n",
       "      <th>Exercise*Fruit_Consumption</th>\n",
       "      <th>Exercise*Green_Vegetables_Consumption</th>\n",
       "      <th>Exercise*FriedPotato_Consumption</th>\n",
       "      <th>Skin_Cancer*Other_Cancer</th>\n",
       "      <th>Skin_Cancer*Depression</th>\n",
       "      <th>Skin_Cancer*Arthritis</th>\n",
       "      <th>Skin_Cancer*Sex</th>\n",
       "      <th>Skin_Cancer*Height_(cm)</th>\n",
       "    </tr>\n",
       "  </thead>\n",
       "  <tbody>\n",
       "    <tr>\n",
       "      <th>210213</th>\n",
       "      <td>1</td>\n",
       "      <td>0</td>\n",
       "      <td>0</td>\n",
       "      <td>0</td>\n",
       "      <td>0</td>\n",
       "      <td>0</td>\n",
       "      <td>1</td>\n",
       "      <td>193.0</td>\n",
       "      <td>99.79</td>\n",
       "      <td>26.78</td>\n",
       "      <td>...</td>\n",
       "      <td>0.00</td>\n",
       "      <td>0.0</td>\n",
       "      <td>0.0</td>\n",
       "      <td>0.0</td>\n",
       "      <td>0.0</td>\n",
       "      <td>0</td>\n",
       "      <td>0</td>\n",
       "      <td>0</td>\n",
       "      <td>0</td>\n",
       "      <td>0.0</td>\n",
       "    </tr>\n",
       "    <tr>\n",
       "      <th>281875</th>\n",
       "      <td>1</td>\n",
       "      <td>1</td>\n",
       "      <td>0</td>\n",
       "      <td>1</td>\n",
       "      <td>1</td>\n",
       "      <td>0</td>\n",
       "      <td>0</td>\n",
       "      <td>155.0</td>\n",
       "      <td>63.50</td>\n",
       "      <td>26.45</td>\n",
       "      <td>...</td>\n",
       "      <td>26.45</td>\n",
       "      <td>0.0</td>\n",
       "      <td>30.0</td>\n",
       "      <td>30.0</td>\n",
       "      <td>2.0</td>\n",
       "      <td>0</td>\n",
       "      <td>0</td>\n",
       "      <td>0</td>\n",
       "      <td>0</td>\n",
       "      <td>0.0</td>\n",
       "    </tr>\n",
       "    <tr>\n",
       "      <th>244775</th>\n",
       "      <td>1</td>\n",
       "      <td>1</td>\n",
       "      <td>0</td>\n",
       "      <td>0</td>\n",
       "      <td>0</td>\n",
       "      <td>0</td>\n",
       "      <td>0</td>\n",
       "      <td>168.0</td>\n",
       "      <td>57.15</td>\n",
       "      <td>20.34</td>\n",
       "      <td>...</td>\n",
       "      <td>20.34</td>\n",
       "      <td>8.0</td>\n",
       "      <td>90.0</td>\n",
       "      <td>8.0</td>\n",
       "      <td>1.0</td>\n",
       "      <td>0</td>\n",
       "      <td>0</td>\n",
       "      <td>0</td>\n",
       "      <td>0</td>\n",
       "      <td>0.0</td>\n",
       "    </tr>\n",
       "    <tr>\n",
       "      <th>77282</th>\n",
       "      <td>1</td>\n",
       "      <td>1</td>\n",
       "      <td>1</td>\n",
       "      <td>0</td>\n",
       "      <td>0</td>\n",
       "      <td>1</td>\n",
       "      <td>0</td>\n",
       "      <td>155.0</td>\n",
       "      <td>70.31</td>\n",
       "      <td>29.29</td>\n",
       "      <td>...</td>\n",
       "      <td>29.29</td>\n",
       "      <td>0.0</td>\n",
       "      <td>16.0</td>\n",
       "      <td>12.0</td>\n",
       "      <td>1.0</td>\n",
       "      <td>0</td>\n",
       "      <td>0</td>\n",
       "      <td>1</td>\n",
       "      <td>0</td>\n",
       "      <td>155.0</td>\n",
       "    </tr>\n",
       "    <tr>\n",
       "      <th>208149</th>\n",
       "      <td>1</td>\n",
       "      <td>1</td>\n",
       "      <td>0</td>\n",
       "      <td>0</td>\n",
       "      <td>0</td>\n",
       "      <td>0</td>\n",
       "      <td>1</td>\n",
       "      <td>183.0</td>\n",
       "      <td>102.06</td>\n",
       "      <td>30.52</td>\n",
       "      <td>...</td>\n",
       "      <td>30.52</td>\n",
       "      <td>9.0</td>\n",
       "      <td>15.0</td>\n",
       "      <td>60.0</td>\n",
       "      <td>30.0</td>\n",
       "      <td>0</td>\n",
       "      <td>0</td>\n",
       "      <td>0</td>\n",
       "      <td>0</td>\n",
       "      <td>0.0</td>\n",
       "    </tr>\n",
       "    <tr>\n",
       "      <th>...</th>\n",
       "      <td>...</td>\n",
       "      <td>...</td>\n",
       "      <td>...</td>\n",
       "      <td>...</td>\n",
       "      <td>...</td>\n",
       "      <td>...</td>\n",
       "      <td>...</td>\n",
       "      <td>...</td>\n",
       "      <td>...</td>\n",
       "      <td>...</td>\n",
       "      <td>...</td>\n",
       "      <td>...</td>\n",
       "      <td>...</td>\n",
       "      <td>...</td>\n",
       "      <td>...</td>\n",
       "      <td>...</td>\n",
       "      <td>...</td>\n",
       "      <td>...</td>\n",
       "      <td>...</td>\n",
       "      <td>...</td>\n",
       "      <td>...</td>\n",
       "    </tr>\n",
       "    <tr>\n",
       "      <th>200843</th>\n",
       "      <td>1</td>\n",
       "      <td>1</td>\n",
       "      <td>0</td>\n",
       "      <td>0</td>\n",
       "      <td>0</td>\n",
       "      <td>0</td>\n",
       "      <td>1</td>\n",
       "      <td>191.0</td>\n",
       "      <td>79.38</td>\n",
       "      <td>21.87</td>\n",
       "      <td>...</td>\n",
       "      <td>21.87</td>\n",
       "      <td>4.0</td>\n",
       "      <td>30.0</td>\n",
       "      <td>60.0</td>\n",
       "      <td>2.0</td>\n",
       "      <td>0</td>\n",
       "      <td>0</td>\n",
       "      <td>0</td>\n",
       "      <td>0</td>\n",
       "      <td>0.0</td>\n",
       "    </tr>\n",
       "    <tr>\n",
       "      <th>284557</th>\n",
       "      <td>1</td>\n",
       "      <td>1</td>\n",
       "      <td>0</td>\n",
       "      <td>0</td>\n",
       "      <td>1</td>\n",
       "      <td>1</td>\n",
       "      <td>0</td>\n",
       "      <td>155.0</td>\n",
       "      <td>62.60</td>\n",
       "      <td>26.07</td>\n",
       "      <td>...</td>\n",
       "      <td>26.07</td>\n",
       "      <td>4.0</td>\n",
       "      <td>30.0</td>\n",
       "      <td>12.0</td>\n",
       "      <td>0.0</td>\n",
       "      <td>0</td>\n",
       "      <td>0</td>\n",
       "      <td>0</td>\n",
       "      <td>0</td>\n",
       "      <td>0.0</td>\n",
       "    </tr>\n",
       "    <tr>\n",
       "      <th>55363</th>\n",
       "      <td>1</td>\n",
       "      <td>1</td>\n",
       "      <td>0</td>\n",
       "      <td>0</td>\n",
       "      <td>0</td>\n",
       "      <td>0</td>\n",
       "      <td>0</td>\n",
       "      <td>168.0</td>\n",
       "      <td>71.21</td>\n",
       "      <td>25.34</td>\n",
       "      <td>...</td>\n",
       "      <td>25.34</td>\n",
       "      <td>5.0</td>\n",
       "      <td>30.0</td>\n",
       "      <td>30.0</td>\n",
       "      <td>10.0</td>\n",
       "      <td>0</td>\n",
       "      <td>0</td>\n",
       "      <td>0</td>\n",
       "      <td>0</td>\n",
       "      <td>0.0</td>\n",
       "    </tr>\n",
       "    <tr>\n",
       "      <th>177158</th>\n",
       "      <td>1</td>\n",
       "      <td>0</td>\n",
       "      <td>0</td>\n",
       "      <td>0</td>\n",
       "      <td>0</td>\n",
       "      <td>1</td>\n",
       "      <td>1</td>\n",
       "      <td>165.0</td>\n",
       "      <td>81.65</td>\n",
       "      <td>29.95</td>\n",
       "      <td>...</td>\n",
       "      <td>0.00</td>\n",
       "      <td>0.0</td>\n",
       "      <td>0.0</td>\n",
       "      <td>0.0</td>\n",
       "      <td>0.0</td>\n",
       "      <td>0</td>\n",
       "      <td>0</td>\n",
       "      <td>0</td>\n",
       "      <td>0</td>\n",
       "      <td>0.0</td>\n",
       "    </tr>\n",
       "    <tr>\n",
       "      <th>179825</th>\n",
       "      <td>1</td>\n",
       "      <td>1</td>\n",
       "      <td>0</td>\n",
       "      <td>0</td>\n",
       "      <td>0</td>\n",
       "      <td>0</td>\n",
       "      <td>0</td>\n",
       "      <td>157.0</td>\n",
       "      <td>68.04</td>\n",
       "      <td>27.44</td>\n",
       "      <td>...</td>\n",
       "      <td>27.44</td>\n",
       "      <td>1.0</td>\n",
       "      <td>90.0</td>\n",
       "      <td>30.0</td>\n",
       "      <td>8.0</td>\n",
       "      <td>0</td>\n",
       "      <td>0</td>\n",
       "      <td>0</td>\n",
       "      <td>0</td>\n",
       "      <td>0.0</td>\n",
       "    </tr>\n",
       "  </tbody>\n",
       "</table>\n",
       "<p>200 rows × 31 columns</p>\n",
       "</div>"
      ],
      "text/plain": [
       "        x0  Exercise  Skin_Cancer  Other_Cancer  Depression  Arthritis  Sex  \\\n",
       "210213   1         0            0             0           0          0    1   \n",
       "281875   1         1            0             1           1          0    0   \n",
       "244775   1         1            0             0           0          0    0   \n",
       "77282    1         1            1             0           0          1    0   \n",
       "208149   1         1            0             0           0          0    1   \n",
       "...     ..       ...          ...           ...         ...        ...  ...   \n",
       "200843   1         1            0             0           0          0    1   \n",
       "284557   1         1            0             0           1          1    0   \n",
       "55363    1         1            0             0           0          0    0   \n",
       "177158   1         0            0             0           0          1    1   \n",
       "179825   1         1            0             0           0          0    0   \n",
       "\n",
       "        Height_(cm)  Weight_(kg)    BMI  ...  Exercise*BMI  \\\n",
       "210213        193.0        99.79  26.78  ...          0.00   \n",
       "281875        155.0        63.50  26.45  ...         26.45   \n",
       "244775        168.0        57.15  20.34  ...         20.34   \n",
       "77282         155.0        70.31  29.29  ...         29.29   \n",
       "208149        183.0       102.06  30.52  ...         30.52   \n",
       "...             ...          ...    ...  ...           ...   \n",
       "200843        191.0        79.38  21.87  ...         21.87   \n",
       "284557        155.0        62.60  26.07  ...         26.07   \n",
       "55363         168.0        71.21  25.34  ...         25.34   \n",
       "177158        165.0        81.65  29.95  ...          0.00   \n",
       "179825        157.0        68.04  27.44  ...         27.44   \n",
       "\n",
       "        Exercise*Alcohol_Consumption  Exercise*Fruit_Consumption  \\\n",
       "210213                           0.0                         0.0   \n",
       "281875                           0.0                        30.0   \n",
       "244775                           8.0                        90.0   \n",
       "77282                            0.0                        16.0   \n",
       "208149                           9.0                        15.0   \n",
       "...                              ...                         ...   \n",
       "200843                           4.0                        30.0   \n",
       "284557                           4.0                        30.0   \n",
       "55363                            5.0                        30.0   \n",
       "177158                           0.0                         0.0   \n",
       "179825                           1.0                        90.0   \n",
       "\n",
       "        Exercise*Green_Vegetables_Consumption  \\\n",
       "210213                                    0.0   \n",
       "281875                                   30.0   \n",
       "244775                                    8.0   \n",
       "77282                                    12.0   \n",
       "208149                                   60.0   \n",
       "...                                       ...   \n",
       "200843                                   60.0   \n",
       "284557                                   12.0   \n",
       "55363                                    30.0   \n",
       "177158                                    0.0   \n",
       "179825                                   30.0   \n",
       "\n",
       "        Exercise*FriedPotato_Consumption  Skin_Cancer*Other_Cancer  \\\n",
       "210213                               0.0                         0   \n",
       "281875                               2.0                         0   \n",
       "244775                               1.0                         0   \n",
       "77282                                1.0                         0   \n",
       "208149                              30.0                         0   \n",
       "...                                  ...                       ...   \n",
       "200843                               2.0                         0   \n",
       "284557                               0.0                         0   \n",
       "55363                               10.0                         0   \n",
       "177158                               0.0                         0   \n",
       "179825                               8.0                         0   \n",
       "\n",
       "        Skin_Cancer*Depression  Skin_Cancer*Arthritis  Skin_Cancer*Sex  \\\n",
       "210213                       0                      0                0   \n",
       "281875                       0                      0                0   \n",
       "244775                       0                      0                0   \n",
       "77282                        0                      1                0   \n",
       "208149                       0                      0                0   \n",
       "...                        ...                    ...              ...   \n",
       "200843                       0                      0                0   \n",
       "284557                       0                      0                0   \n",
       "55363                        0                      0                0   \n",
       "177158                       0                      0                0   \n",
       "179825                       0                      0                0   \n",
       "\n",
       "        Skin_Cancer*Height_(cm)  \n",
       "210213                      0.0  \n",
       "281875                      0.0  \n",
       "244775                      0.0  \n",
       "77282                     155.0  \n",
       "208149                      0.0  \n",
       "...                         ...  \n",
       "200843                      0.0  \n",
       "284557                      0.0  \n",
       "55363                       0.0  \n",
       "177158                      0.0  \n",
       "179825                      0.0  \n",
       "\n",
       "[200 rows x 31 columns]"
      ]
     },
     "execution_count": 262,
     "metadata": {},
     "output_type": "execute_result"
    }
   ],
   "source": [
    "x"
   ]
  },
  {
   "cell_type": "code",
   "execution_count": 263,
   "id": "6d523ca0",
   "metadata": {},
   "outputs": [],
   "source": [
    "def AIC(x, y, b):\n",
    "    sum = 0\n",
    "    for x_i, y_i in zip(x, y):\n",
    "        sum += y_i * x_i.dot(b.T) - np.log(1 + np.exp(x_i.dot(b.T)))\n",
    "    return sum - len(b)\n"
   ]
  },
  {
   "cell_type": "code",
   "execution_count": 264,
   "id": "4af8aee0",
   "metadata": {},
   "outputs": [
    {
     "name": "stdout",
     "output_type": "stream",
     "text": [
      "Selected Variables:\n",
      "['x0', 'Exercise*Alcohol_Consumption', 'Exercise', 'Exercise*Arthritis', 'Skin_Cancer*Arthritis']\n",
      "\n",
      "Metric = -41.544933899304354\n"
     ]
    },
    {
     "name": "stderr",
     "output_type": "stream",
     "text": [
      "/Library/Frameworks/Python.framework/Versions/3.10/lib/python3.10/site-packages/sklearn/linear_model/_logistic.py:444: ConvergenceWarning: lbfgs failed to converge (status=1):\n",
      "STOP: TOTAL NO. of ITERATIONS REACHED LIMIT.\n",
      "\n",
      "Increase the number of iterations (max_iter) or scale the data as shown in:\n",
      "    https://scikit-learn.org/stable/modules/preprocessing.html\n",
      "Please also refer to the documentation for alternative solver options:\n",
      "    https://scikit-learn.org/stable/modules/linear_model.html#logistic-regression\n",
      "  n_iter_i = _check_optimize_result(\n",
      "/Library/Frameworks/Python.framework/Versions/3.10/lib/python3.10/site-packages/sklearn/linear_model/_logistic.py:444: ConvergenceWarning: lbfgs failed to converge (status=1):\n",
      "STOP: TOTAL NO. of ITERATIONS REACHED LIMIT.\n",
      "\n",
      "Increase the number of iterations (max_iter) or scale the data as shown in:\n",
      "    https://scikit-learn.org/stable/modules/preprocessing.html\n",
      "Please also refer to the documentation for alternative solver options:\n",
      "    https://scikit-learn.org/stable/modules/linear_model.html#logistic-regression\n",
      "  n_iter_i = _check_optimize_result(\n",
      "/Library/Frameworks/Python.framework/Versions/3.10/lib/python3.10/site-packages/sklearn/linear_model/_logistic.py:444: ConvergenceWarning: lbfgs failed to converge (status=1):\n",
      "STOP: TOTAL NO. of ITERATIONS REACHED LIMIT.\n",
      "\n",
      "Increase the number of iterations (max_iter) or scale the data as shown in:\n",
      "    https://scikit-learn.org/stable/modules/preprocessing.html\n",
      "Please also refer to the documentation for alternative solver options:\n",
      "    https://scikit-learn.org/stable/modules/linear_model.html#logistic-regression\n",
      "  n_iter_i = _check_optimize_result(\n"
     ]
    }
   ],
   "source": [
    "def forward_stepwise_Regression(metric):\n",
    "    variables = set(x.columns)\n",
    "    selected_variables = []\n",
    "    last_AIC = -np.inf\n",
    "    best_AIC = -np.inf\n",
    "    \n",
    "    for var1 in variables:\n",
    "        for var2 in variables:\n",
    "            if var2 not in selected_variables:\n",
    "                x_temp = x[selected_variables + [var2]].to_numpy()\n",
    "                model = LogisticRegression(penalty='none', fit_intercept=False).fit(x_temp, y)\n",
    "                temp_AIC = metric(x_temp, y, model.coef_[0])\n",
    "                if temp_AIC > best_AIC:\n",
    "                    best_AIC = temp_AIC\n",
    "                    best_v = var2\n",
    "                    \n",
    "        if last_AIC == best_AIC:\n",
    "            break\n",
    "        else:\n",
    "            last_AIC = best_AIC\n",
    "            selected_variables.append(best_v)\n",
    "            \n",
    "    print(f'Selected Variables:\\n{selected_variables}\\n')\n",
    "    print(f'Metric = {best_AIC}')\n",
    "    \n",
    "           \n",
    "# Doing forward with AIC as a metric                \n",
    "forward_stepwise_Regression(AIC)"
   ]
  },
  {
   "cell_type": "code",
   "execution_count": 286,
   "id": "a99e44b3",
   "metadata": {},
   "outputs": [],
   "source": [
    "def backward_stepwise_Regression(metric):\n",
    "    variables = set(x.columns)\n",
    "    selected_variables = list(variables)\n",
    "    last_AIC = -np.inf\n",
    "    best_AIC = -np.inf\n",
    "    \n",
    "    for var1 in variables:\n",
    "        for var2 in variables:\n",
    "            if var2 in selected_variables:\n",
    "                selected_variables.remove(var2)\n",
    "                x_temp = x[selected_variables].to_numpy()\n",
    "                model = LogisticRegression(penalty='none', fit_intercept=False, max_iter=1000).fit(x_temp, y)\n",
    "                temp_AIC = metric(x_temp, y, model.coef_[0])\n",
    "                if temp_AIC > best_AIC:\n",
    "                    best_AIC = temp_AIC\n",
    "                    best_v = var2\n",
    "                selected_variables.append(var2)\n",
    "                    \n",
    "        if last_AIC == best_AIC:\n",
    "            break\n",
    "        else:\n",
    "            last_AIC = best_AIC\n",
    "            selected_variables.remove(best_v)\n",
    "            \n",
    "    print(f'Selected Variables:\\n{selected_variables}\\n')\n",
    "    print(f'Metric = {best_AIC}')\n",
    "\n",
    "\n"
   ]
  }
 ],
 "metadata": {
  "kernelspec": {
   "display_name": "Python 3 (ipykernel)",
   "language": "python",
   "name": "python3"
  },
  "language_info": {
   "codemirror_mode": {
    "name": "ipython",
    "version": 3
   },
   "file_extension": ".py",
   "mimetype": "text/x-python",
   "name": "python",
   "nbconvert_exporter": "python",
   "pygments_lexer": "ipython3",
   "version": "3.10.4"
  }
 },
 "nbformat": 4,
 "nbformat_minor": 5
}
