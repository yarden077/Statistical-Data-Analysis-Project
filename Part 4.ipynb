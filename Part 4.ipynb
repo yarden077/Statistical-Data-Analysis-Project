{
 "cells": [
  {
   "cell_type": "code",
   "execution_count": 52,
   "id": "43f92e56",
   "metadata": {},
   "outputs": [],
   "source": [
    "import pandas as pd\n",
    "from scipy.stats import norm\n",
    "import numpy as np\n",
    "import matplotlib.pyplot as plt\n",
    "import seaborn as sns\n",
    "import scipy.stats as stats"
   ]
  },
  {
   "cell_type": "markdown",
   "id": "e0303c20",
   "metadata": {},
   "source": [
    "# Part A - Linear Regression\n",
    "* Using the same research question from previous project:\n",
    "\n",
    "**Do FriedPotato Consumption, Depression and Smoking History affect Alcohol Consumption?**"
   ]
  },
  {
   "cell_type": "code",
   "execution_count": 53,
   "id": "c83b0108",
   "metadata": {},
   "outputs": [
    {
     "data": {
      "text/html": [
       "<div>\n",
       "<style scoped>\n",
       "    .dataframe tbody tr th:only-of-type {\n",
       "        vertical-align: middle;\n",
       "    }\n",
       "\n",
       "    .dataframe tbody tr th {\n",
       "        vertical-align: top;\n",
       "    }\n",
       "\n",
       "    .dataframe thead th {\n",
       "        text-align: right;\n",
       "    }\n",
       "</style>\n",
       "<table border=\"1\" class=\"dataframe\">\n",
       "  <thead>\n",
       "    <tr style=\"text-align: right;\">\n",
       "      <th></th>\n",
       "      <th>FriedPotato_Consumption</th>\n",
       "      <th>Depression</th>\n",
       "      <th>Smoking_History</th>\n",
       "      <th>Alcohol_Consumption</th>\n",
       "    </tr>\n",
       "  </thead>\n",
       "  <tbody>\n",
       "    <tr>\n",
       "      <th>0</th>\n",
       "      <td>12.0</td>\n",
       "      <td>0</td>\n",
       "      <td>1</td>\n",
       "      <td>0.0</td>\n",
       "    </tr>\n",
       "    <tr>\n",
       "      <th>1</th>\n",
       "      <td>4.0</td>\n",
       "      <td>0</td>\n",
       "      <td>0</td>\n",
       "      <td>0.0</td>\n",
       "    </tr>\n",
       "    <tr>\n",
       "      <th>2</th>\n",
       "      <td>16.0</td>\n",
       "      <td>0</td>\n",
       "      <td>0</td>\n",
       "      <td>4.0</td>\n",
       "    </tr>\n",
       "    <tr>\n",
       "      <th>3</th>\n",
       "      <td>8.0</td>\n",
       "      <td>0</td>\n",
       "      <td>0</td>\n",
       "      <td>0.0</td>\n",
       "    </tr>\n",
       "    <tr>\n",
       "      <th>4</th>\n",
       "      <td>0.0</td>\n",
       "      <td>0</td>\n",
       "      <td>1</td>\n",
       "      <td>0.0</td>\n",
       "    </tr>\n",
       "  </tbody>\n",
       "</table>\n",
       "</div>"
      ],
      "text/plain": [
       "   FriedPotato_Consumption  Depression  Smoking_History  Alcohol_Consumption\n",
       "0                     12.0           0                1                  0.0\n",
       "1                      4.0           0                0                  0.0\n",
       "2                     16.0           0                0                  4.0\n",
       "3                      8.0           0                0                  0.0\n",
       "4                      0.0           0                1                  0.0"
      ]
     },
     "execution_count": 53,
     "metadata": {},
     "output_type": "execute_result"
    }
   ],
   "source": [
    "# Reading the csv file and transforming the data using the code from EX1:\n",
    "original_df = pd.read_csv('CVD_cleaned.csv')\n",
    "\n",
    "# Transforming df\n",
    "original_df = original_df[['FriedPotato_Consumption', 'Depression', 'Smoking_History', 'Alcohol_Consumption']]\n",
    "original_df['Depression'] = original_df['Depression'].replace({'Yes': 1, 'No': 0})\n",
    "original_df['Smoking_History'] = original_df['Smoking_History'].replace({'Yes': 1, 'No': 0})\n",
    "original_df.head()"
   ]
  },
  {
   "cell_type": "code",
   "execution_count": 54,
   "id": "4e685be4",
   "metadata": {},
   "outputs": [],
   "source": [
    "# sample 200 rows:\n",
    "df_sample = original_df.sample(n=200, random_state=42)"
   ]
  },
  {
   "cell_type": "markdown",
   "id": "abc6ceab",
   "metadata": {},
   "source": [
    "# Q 1 + 2"
   ]
  },
  {
   "cell_type": "markdown",
   "id": "02e419f5",
   "metadata": {},
   "source": [
    "## Q 1.1"
   ]
  },
  {
   "cell_type": "code",
   "execution_count": 55,
   "id": "ecb3cb71",
   "metadata": {},
   "outputs": [
    {
     "name": "stdout",
     "output_type": "stream",
     "text": [
      "y = 4.408915277098989 + -1.311272987454263 * x1 + 1.2845022838125948 * x2 + -0.03862935845846112 * x3\n"
     ]
    }
   ],
   "source": [
    "y = df_sample['Alcohol_Consumption'].to_numpy()\n",
    "x = df_sample[['Depression', 'Smoking_History', 'FriedPotato_Consumption']]\n",
    "x.insert(0, 'x0', 1)\n",
    "x = x.to_numpy()\n",
    "\n",
    "xTx = x.T @ x\n",
    "xTx_inv = np.linalg.inv(xTx)\n",
    "xTy = x.T @ y\n",
    "\n",
    "b_sam = xTx_inv @ xTy\n",
    "\n",
    "print(f\"y = {b_sam[0]} + {b_sam[1]} * x1 + {b_sam[2]} * x2 + {b_sam[3]} * x3\")"
   ]
  },
  {
   "cell_type": "code",
   "execution_count": 56,
   "id": "f80aa987",
   "metadata": {},
   "outputs": [],
   "source": [
    "def all_data_beta():\n",
    "    # Calculating b0, b1, b2, b3 for all data\n",
    "    df = pd.read_csv('/Users/yardennahum/Statistics 2/Project 1/CVD_cleaned.csv')\n",
    "    df = df[['FriedPotato_Consumption', 'Depression', 'Smoking_History', 'Alcohol_Consumption']]\n",
    "    df['Depression'] = df['Depression'].replace({'Yes': 1, 'No': 0})\n",
    "    df['Smoking_History'] = df['Smoking_History'].replace({'Yes': 1, 'No': 0})\n",
    "    y = df['Alcohol_Consumption'].to_numpy()\n",
    "    x = df[['Depression', 'Smoking_History', 'FriedPotato_Consumption']]\n",
    "    x.insert(0, 'x0', 1)\n",
    "    x = x.to_numpy()\n",
    "    xTx = x.T @ x\n",
    "    xTx_inv = np.linalg.inv(xTx)\n",
    "    xTy = x.T @ y\n",
    "    b = xTx_inv @ xTy\n",
    "    return b"
   ]
  },
  {
   "cell_type": "code",
   "execution_count": 57,
   "id": "d81aa632",
   "metadata": {
    "scrolled": true
   },
   "outputs": [
    {
     "name": "stdout",
     "output_type": "stream",
     "text": [
      "CI for beta 0 is: [2.943083740058616, 5.874746814139361]\n",
      "Legnth of CI is: 2.9316630740807454\n",
      "Is CI of beta 0 in sample data contains the estimator of original data: True\n",
      "\n",
      "CI for beta 1 is: [-3.9943570320234962, 1.3718110571149702]\n",
      "Legnth of CI is: 5.366168089138466\n",
      "Is CI of beta 1 in sample data contains the estimator of original data: True\n",
      "\n",
      "CI for beta 2 is: [-0.806599737693894, 3.375604305319084]\n",
      "Legnth of CI is: 4.182204043012978\n",
      "Is CI of beta 2 in sample data contains the estimator of original data: True\n",
      "\n",
      "CI for beta 3 is: [-0.11517437817120994, 0.037915661254287705]\n",
      "Legnth of CI is: 0.15309003942549765\n",
      "Is CI of beta 3 in sample data contains the estimator of original data: True\n",
      "\n"
     ]
    }
   ],
   "source": [
    "# CI of b0, b1, b2 and b3 based on normal approximation\n",
    "n = 200\n",
    "p = x.shape[1]\n",
    "alpha = 0.05\n",
    "z_alpha = stats.norm.ppf(1 - alpha / 2)\n",
    "P = np.dot(x.dot(xTx_inv), x.T)\n",
    "e = (np.eye(n) - P).dot(y)\n",
    "sigma_squared = (1 / (n - p)) * np.sum(e**2)\n",
    "cov = xTx_inv\n",
    "b_all = all_data_beta()\n",
    "ci_list = []\n",
    "for i in range(4):\n",
    "    se_estimated = np.sqrt(sigma_squared * cov[i][i])\n",
    "    CI_beta_i = [b_sam[i] - z_alpha * se_estimated,b_sam[i] + z_alpha * se_estimated]\n",
    "    print(f\"CI for beta {i} is: {CI_beta_i}\")\n",
    "    print(f\"Legnth of CI is: {CI_beta_i[1] - CI_beta_i[0]}\")\n",
    "    print(f\"Is CI of beta {i} in sample data contains the estimator of original data: \"\n",
    "          f\"{b_all[i] <= CI_beta_i[1] and b_all[i] >= CI_beta_i[0]}\\n\")\n",
    "  \n",
    "    "
   ]
  },
  {
   "cell_type": "markdown",
   "id": "102be18c",
   "metadata": {},
   "source": [
    "## Q 1.2"
   ]
  },
  {
   "cell_type": "code",
   "execution_count": 58,
   "id": "6bdc0577",
   "metadata": {},
   "outputs": [],
   "source": [
    "def calc_beta(x, y):\n",
    "    xTx = x.T @ x\n",
    "    xTx_inv = np.linalg.inv(xTx)\n",
    "    xTy = x.T @ y\n",
    "    b = xTx_inv @ xTy\n",
    "    return b\n"
   ]
  },
  {
   "cell_type": "code",
   "execution_count": 59,
   "id": "67dc78b3",
   "metadata": {
    "scrolled": true
   },
   "outputs": [
    {
     "name": "stdout",
     "output_type": "stream",
     "text": [
      "CI for beta 0 is: [3.018309784250924, 5.799520769947053]\n",
      "Legnth of CI is: 2.781210985696129\n",
      "Is CI of beta 0 in sample data contains the estimator of original data: True\n",
      "\n",
      "CI for beta 1 is: [-3.7236582334678987, 1.1011122585593727]\n",
      "Legnth of CI is: 4.824770492027271\n",
      "Is CI of beta 1 in sample data contains the estimator of original data: True\n",
      "\n",
      "CI for beta 2 is: [-0.8396838081545217, 3.408688375779711]\n",
      "Legnth of CI is: 4.248372183934233\n",
      "Is CI of beta 2 in sample data contains the estimator of original data: True\n",
      "\n",
      "CI for beta 3 is: [-0.08696069948613619, 0.009701982569213959]\n",
      "Legnth of CI is: 0.09666268205535014\n",
      "Is CI of beta 3 in sample data contains the estimator of original data: False\n",
      "\n"
     ]
    }
   ],
   "source": [
    "# CI using bootstarp\n",
    "B = 400\n",
    "beta_0, beta_1, beta_2, beta_3 = [], [], [], []\n",
    "for i in range(B):\n",
    "    # Randomly sample 200 indices\n",
    "    sample_indices = np.random.choice(len(x), size=200, replace=True)\n",
    "\n",
    "    # Using the sampled indices to extract the corresponding samples from x and y\n",
    "    sample_x = x[sample_indices]\n",
    "    sample_y = y[sample_indices]\n",
    "    \n",
    "    # Calculating beta based on sampled x and y\n",
    "    b = calc_beta(sample_x, sample_y)\n",
    "    \n",
    "    # Storing results\n",
    "    beta_0.append(b[0])\n",
    "    beta_1.append(b[1])    \n",
    "    beta_2.append(b[2])    \n",
    "    beta_3.append(b[3])    \n",
    "\n",
    "# Calclutaing se\n",
    "beta_se = [np.std(beta_0), np.std(beta_1), np.std(beta_2), np.std(beta_3)]\n",
    "\n",
    "for i in range(4):\n",
    "    se_estimated = beta_se[i]\n",
    "    CI_beta_i = [b_sam[i] - z_alpha * se_estimated,b_sam[i] + z_alpha * se_estimated]\n",
    "    print(f\"CI for beta {i} is: {CI_beta_i}\")\n",
    "    print(f\"Legnth of CI is: {CI_beta_i[1] - CI_beta_i[0]}\")\n",
    "    print(f\"Is CI of beta {i} in sample data contains the estimator of original data: \"\n",
    "          f\"{b_all[i] <= CI_beta_i[1] and b_all[i] >= CI_beta_i[0]}\\n\")"
   ]
  },
  {
   "cell_type": "markdown",
   "id": "483d715a",
   "metadata": {},
   "source": [
    "## Q 1.3"
   ]
  },
  {
   "cell_type": "code",
   "execution_count": 60,
   "id": "efc892f8",
   "metadata": {},
   "outputs": [
    {
     "name": "stdout",
     "output_type": "stream",
     "text": [
      "5.869389899684543\n",
      "CI for beta 0 is: [2.9484406545134343, 5.771414650360337]\n",
      "Legnth of CI is: 2.822973995846903\n",
      "Is CI of beta 0 in sample data contains the estimator of original data: True\n",
      "\n",
      "CI for beta 1 is: [-3.701280833853289, 0.984327707322544]\n",
      "Legnth of CI is: 4.685608541175833\n",
      "Is CI of beta 1 in sample data contains the estimator of original data: True\n",
      "\n",
      "CI for beta 2 is: [-0.7392843580336006, 3.207255699079223]\n",
      "Legnth of CI is: 3.9465400571128235\n",
      "Is CI of beta 2 in sample data contains the estimator of original data: True\n",
      "\n",
      "CI for beta 3 is: [-0.09096086211063034, 0.01563006849520912]\n",
      "Legnth of CI is: 0.10659093060583946\n",
      "Is CI of beta 3 in sample data contains the estimator of original data: False\n",
      "\n"
     ]
    }
   ],
   "source": [
    "# Calcualting quatiles for b0, b1, b2 and b3:\n",
    "betas = [beta_0, beta_1, beta_2, beta_3]\n",
    "quantiles = []\n",
    "for b in betas:\n",
    "    quantiles.append(np.quantile(b, [0.025, 0.975]))\n",
    "print(quantiles[0][1])\n",
    "for i in range(4):\n",
    "    CI_beta_i = [(2 * b_sam[i]) - quantiles[i][1], (2 * b_sam[i]) - quantiles[i][0]]\n",
    "    print(f\"CI for beta {i} is: {CI_beta_i}\")\n",
    "    print(f\"Legnth of CI is: {CI_beta_i[1] - CI_beta_i[0]}\")\n",
    "    print(f\"Is CI of beta {i} in sample data contains the estimator of original data: \"\n",
    "          f\"{b_all[i] <= CI_beta_i[1] and b_all[i] >= CI_beta_i[0]}\\n\")"
   ]
  },
  {
   "cell_type": "markdown",
   "id": "6c75a847",
   "metadata": {},
   "source": [
    "## Q 1.4"
   ]
  },
  {
   "cell_type": "code",
   "execution_count": 63,
   "id": "dcdddc65",
   "metadata": {},
   "outputs": [
    {
     "name": "stdout",
     "output_type": "stream",
     "text": [
      "CI of beta0: [3.0464159 5.8693899]\n",
      "Legnth of CI is: 2.822973995846903\n",
      "Is CI of beta 0 in sample data contains the estimator of original data: True\n",
      "\n",
      "CI of beta1: [-3.60687368  1.07873486]\n",
      "Legnth of CI is: 4.685608541175833\n",
      "Is CI of beta 1 in sample data contains the estimator of original data: True\n",
      "\n",
      "CI of beta2: [-0.63825113  3.30828893]\n",
      "Legnth of CI is: 3.9465400571128235\n",
      "Is CI of beta 2 in sample data contains the estimator of original data: True\n",
      "\n",
      "CI of beta3: [-0.09288879  0.01370215]\n",
      "Legnth of CI is: 0.10659093060583946\n",
      "Is CI of beta 3 in sample data contains the estimator of original data: False\n",
      "\n"
     ]
    }
   ],
   "source": [
    "# Quantiles CI\n",
    "for i, q in enumerate(quantiles):\n",
    "    print(f\"CI of beta{i}: {quantiles[i]}\") \n",
    "    print(f\"Legnth of CI is: {quantiles[i][1] - quantiles[i][0]}\")\n",
    "    print(f\"Is CI of beta {i} in sample data contains the estimator of original data: \"\n",
    "          f\"{b_all[i] <= quantiles[i][1] and b_all[i] >= quantiles[i][0]}\\n\")"
   ]
  },
  {
   "cell_type": "markdown",
   "id": "a2c98447",
   "metadata": {},
   "source": [
    "__Observing the majority of the confidence intervals we calculated, it's evident that they encompass the parameter based on the entire dataset, except for beta 3 in some intervals. Furthermore, we note that the confidence interval length for methods 3 and 4 aligns with our theoretical expectations.__"
   ]
  },
  {
   "cell_type": "markdown",
   "id": "6524aaff",
   "metadata": {},
   "source": [
    "## Q 3"
   ]
  },
  {
   "cell_type": "markdown",
   "id": "c9ef09cd",
   "metadata": {},
   "source": [
    "### Q 3.1"
   ]
  },
  {
   "cell_type": "code",
   "execution_count": 64,
   "id": "5dc8dc78",
   "metadata": {},
   "outputs": [],
   "source": [
    "# Get the indices of the previously sampled 200 samples\n",
    "sampled_indices = df_sample.index\n",
    "\n",
    "# Drop the previously sampled indices from the original dataframe\n",
    "remaining_df = original_df.drop(sampled_indices)\n",
    "\n",
    "# Sample 100 samples from the remaining dataframe\n",
    "new_sample_df = remaining_df.sample(n=100, random_state=42)"
   ]
  },
  {
   "cell_type": "code",
   "execution_count": 65,
   "id": "61f80d9f",
   "metadata": {},
   "outputs": [],
   "source": [
    "x_new = new_sample_df[['Depression', 'Smoking_History', 'FriedPotato_Consumption']]\n",
    "x_new.insert(0, 'x0', 1)\n",
    "x_new = x_new.to_numpy()\n",
    "\n",
    "# Calculating predicted y-values for each sample in x_new\n",
    "y_pred = x_new.dot(b_sam)\n",
    "y_new = new_sample_df['Alcohol_Consumption'].to_numpy()\n"
   ]
  },
  {
   "cell_type": "markdown",
   "id": "8226ebff",
   "metadata": {},
   "source": [
    "### Q 3.2"
   ]
  },
  {
   "cell_type": "code",
   "execution_count": 66,
   "id": "4efede5c",
   "metadata": {},
   "outputs": [],
   "source": [
    "y_pred_list = []\n",
    "\n",
    "for i in range(B):\n",
    "    df_bootstrap = df_sample.sample(n=200, random_state=i, replace=True)\n",
    "    x = df_bootstrap[['Depression', 'Smoking_History', 'FriedPotato_Consumption']]\n",
    "    x.insert(0, 'x0', 1)\n",
    "    y = df_bootstrap['Alcohol_Consumption'].to_numpy()\n",
    "    b = calc_beta(x, y)\n",
    "    y_pred = np.array(x).dot(b)\n",
    "    y_pred_list.append(y_pred)\n",
    "    "
   ]
  },
  {
   "cell_type": "code",
   "execution_count": 67,
   "id": "440b0dde",
   "metadata": {},
   "outputs": [
    {
     "name": "stdout",
     "output_type": "stream",
     "text": [
      "CI for y_pred: [4.036208364662358, 8.743422829555655]\n",
      "CI for y_pred: [3.909295536104665, 9.055971085026371]\n",
      "CI for y_pred: [3.9355654054830405, 8.65843036182195]\n",
      "CI for y_pred: [1.1831433378161669, 6.139911475550473]\n",
      "CI for y_pred: [-0.8820724324049254, 4.294327057324171]\n",
      "CI for y_pred: [1.1238869450985183, 6.445496072280944]\n",
      "CI for y_pred: [3.664773363188194, 8.929222404116796]\n",
      "CI for y_pred: [3.6955710575424874, 9.084060136675527]\n",
      "CI for y_pred: [1.4100077064737913, 6.377135674175404]\n",
      "CI for y_pred: [1.163613616697993, 5.973805769755625]\n",
      "CI for y_pred: [1.3492479890262188, 6.345077678166467]\n",
      "CI for y_pred: [1.4054932432126463, 6.660103277806083]\n",
      "CI for y_pred: [0.7629770215821914, 6.188806937958404]\n",
      "CI for y_pred: [1.4313899188198635, 6.541388888742356]\n",
      "CI for y_pred: [3.9016515823603988, 8.970797325314125]\n",
      "CI for y_pred: [-0.7305013967735068, 4.328391448605775]\n",
      "CI for y_pred: [-1.0663580957352707, 3.9217064399154493]\n",
      "CI for y_pred: [4.112191545059629, 8.853075076071407]\n",
      "CI for y_pred: [3.9672446131061783, 8.905204294568346]\n",
      "CI for y_pred: [1.3612218065589783, 6.333103860633707]\n",
      "CI for y_pred: [1.3123720153559066, 6.3819536518367785]\n",
      "CI for y_pred: [1.5441795250967876, 6.521416995921943]\n",
      "CI for y_pred: [1.04969100348824, 5.902092956052355]\n",
      "CI for y_pred: [1.5820049403590621, 6.483591580659668]\n",
      "CI for y_pred: [1.4754657387116512, 6.311677641937544]\n",
      "CI for y_pred: [0.8987566205472737, 6.053027338993322]\n",
      "CI for y_pred: [1.0401639622719339, 6.282890851094707]\n",
      "CI for y_pred: [3.03960953184912, 8.069302820151693]\n",
      "CI for y_pred: [1.375659651360691, 6.318666015831994]\n",
      "CI for y_pred: [1.3070392044363808, 6.665739603125838]\n",
      "CI for y_pred: [1.1669656343382449, 6.527360032854441]\n",
      "CI for y_pred: [1.2448298473573294, 6.727948960204889]\n",
      "CI for y_pred: [3.9838865932769516, 8.888562314397573]\n",
      "CI for y_pred: [3.6959627433592166, 9.083668450858799]\n",
      "CI for y_pred: [1.3845422429469019, 6.402601137702295]\n",
      "CI for y_pred: [1.3732488893280728, 6.599529918234146]\n",
      "CI for y_pred: [-0.8063185006546467, 4.125755412117381]\n",
      "CI for y_pred: [3.544403343723288, 9.049592423581704]\n",
      "CI for y_pred: [3.9150912242368903, 8.771722256524612]\n",
      "CI for y_pred: [4.134220140459769, 8.831046480671267]\n",
      "CI for y_pred: [3.5446972343238934, 8.306756825329009]\n",
      "CI for y_pred: [3.132031539839362, 7.9768808121614505]\n",
      "CI for y_pred: [-0.7541908803682893, 3.9808100783745126]\n",
      "CI for y_pred: [3.9718114008853083, 8.993455220245728]\n",
      "CI for y_pred: [1.1097766693746598, 6.213278143991981]\n",
      "CI for y_pred: [-0.9050124912106745, 4.131631689216897]\n",
      "CI for y_pred: [3.818003337916228, 9.147263283214809]\n",
      "CI for y_pred: [3.6015449518072167, 8.806815388584752]\n",
      "CI for y_pred: [0.9416778765083444, 6.752647790684341]\n",
      "CI for y_pred: [-4.003931176217037, 1.3633657133802692]\n",
      "CI for y_pred: [3.3863072473528453, 8.465146812300056]\n",
      "CI for y_pred: [1.145715199113908, 6.177339614252732]\n",
      "CI for y_pred: [1.6050361319264774, 6.367742675635741]\n",
      "CI for y_pred: [1.2786013658472086, 6.044453447519432]\n",
      "CI for y_pred: [1.0114136983951632, 6.3116411149714775]\n",
      "CI for y_pred: [1.4664309646620932, 6.413530129443614]\n",
      "CI for y_pred: [1.2238514673618939, 5.881442982735012]\n",
      "CI for y_pred: [1.6948901134739973, 6.4313991846445315]\n",
      "CI for y_pred: [3.888134614083012, 8.891496580135001]\n",
      "CI for y_pred: [3.801710752262784, 8.792285015042207]\n",
      "CI for y_pred: [3.8653989941538325, 9.099867626977204]\n",
      "CI for y_pred: [3.7026081981567587, 8.520116715322189]\n",
      "CI for y_pred: [3.3082040392194836, 8.171979166607375]\n",
      "CI for y_pred: [2.4963603057954833, 7.684374911640217]\n",
      "CI for y_pred: [1.381371678926064, 6.312953988266621]\n",
      "CI for y_pred: [3.2383715905096344, 8.613082469143267]\n",
      "CI for y_pred: [1.3722655614267119, 6.322060105765973]\n",
      "CI for y_pred: [1.2064979747235873, 6.859098546295142]\n",
      "CI for y_pred: [1.372866622002329, 6.507094472103378]\n",
      "CI for y_pred: [1.402484575218526, 6.4774765188871815]\n",
      "CI for y_pred: [1.531124958166083, 6.441653849396136]\n",
      "CI for y_pred: [0.7456829808407415, 6.206100978699854]\n",
      "CI for y_pred: [1.6789281395615707, 6.632996585469982]\n",
      "CI for y_pred: [1.1025445043566968, 6.220510309009944]\n",
      "CI for y_pred: [1.4272785319517496, 6.545500275610469]\n",
      "CI for y_pred: [-1.079824497954979, 4.306443695961202]\n",
      "CI for y_pred: [1.5729741758508946, 6.646132835724146]\n",
      "CI for y_pred: [0.7951124660521862, 6.342306920401432]\n",
      "CI for y_pred: [-1.247114283814395, 3.7436479974424532]\n",
      "CI for y_pred: [1.3825669185567984, 5.940487894809842]\n",
      "CI for y_pred: [1.229176008754933, 5.908243377698685]\n",
      "CI for y_pred: [3.925101317224904, 8.668894450080087]\n",
      "CI for y_pred: [1.6755653532409465, 6.729177085247116]\n",
      "CI for y_pred: [3.609623199324639, 8.984372567980351]\n",
      "CI for y_pred: [3.7435487540702344, 9.03608244014778]\n",
      "CI for y_pred: [1.065829023102384, 5.885954936438211]\n",
      "CI for y_pred: [1.3885755024959567, 6.6770210185227725]\n",
      "CI for y_pred: [4.126387204434572, 8.838879416696464]\n",
      "CI for y_pred: [2.5224413815887043, 7.658293835846996]\n",
      "CI for y_pred: [1.6675478849329206, 6.398048636085809]\n",
      "CI for y_pred: [3.8644126132076093, 8.915218581010405]\n",
      "CI for y_pred: [1.6326431999303055, 6.586463811644736]\n",
      "CI for y_pred: [1.3245661843991963, 6.276941769336977]\n",
      "CI for y_pred: [3.772081680187691, 9.100367227486833]\n",
      "CI for y_pred: [4.01246510835131, 8.952801512779725]\n",
      "CI for y_pred: [1.4074922168072117, 6.718797081311317]\n",
      "CI for y_pred: [1.4082244765450258, 6.6573720444737035]\n",
      "CI for y_pred: [1.2383265730878255, 6.455999094104859]\n",
      "CI for y_pred: [3.869905204217823, 9.095361416913214]\n",
      "CI for y_pred: [4.070707420271387, 8.89455920085965]\n",
      "CI for y_pred: [1.129807505453274, 5.821976454087322]\n",
      "CI for y_pred: [1.2253245662127958, 6.190547960610356]\n",
      "CI for y_pred: [1.5482463598221505, 6.517350161196579]\n",
      "CI for y_pred: [1.5284057796597317, 6.537190741358998]\n",
      "CI for y_pred: [-0.7571738207027794, 3.9837930187090027]\n",
      "CI for y_pred: [1.412508007340736, 6.467453086764971]\n",
      "CI for y_pred: [-0.7785626451831063, 4.190817270102352]\n",
      "CI for y_pred: [0.9202928050102464, 6.0314911545303485]\n",
      "CI for y_pred: [1.1622733371364475, 6.532052330056238]\n",
      "CI for y_pred: [1.4277713075452407, 6.637825213473489]\n",
      "CI for y_pred: [1.4123402680765142, 6.281985399116171]\n",
      "CI for y_pred: [1.6257394346358187, 6.439857086382911]\n",
      "CI for y_pred: [1.4161796143139083, 6.710109683804621]\n",
      "CI for y_pred: [2.9477834238904634, 8.16112892811035]\n",
      "CI for y_pred: [3.810400048335812, 8.78359571896918]\n",
      "CI for y_pred: [1.3174994521329495, 6.376826215059736]\n",
      "CI for y_pred: [1.0664275161583667, 6.256627297208274]\n",
      "CI for y_pred: [1.4335215658014158, 6.539257241760803]\n",
      "CI for y_pred: [1.1439119622068503, 6.550413704985835]\n",
      "CI for y_pred: [1.2055396497413153, 6.117515163625326]\n",
      "CI for y_pred: [1.6164446347780186, 6.449151886240712]\n",
      "CI for y_pred: [3.440090993057389, 8.782633920421558]\n",
      "CI for y_pred: [3.7551468833285653, 8.838848883976425]\n",
      "CI for y_pred: [3.078029285821302, 8.030883066179511]\n",
      "CI for y_pred: [1.6092283200796866, 6.085097347112999]\n",
      "CI for y_pred: [3.902633936774605, 8.87699725744341]\n",
      "CI for y_pred: [3.8476801176893782, 8.931951076528636]\n",
      "CI for y_pred: [0.8840025546710852, 6.0677814048695105]\n",
      "CI for y_pred: [3.4312583213873222, 8.791466592091625]\n",
      "CI for y_pred: [1.3962431360719951, 6.29808253112069]\n",
      "CI for y_pred: [4.0538899708163445, 8.911376650314692]\n",
      "CI for y_pred: [3.76979397603652, 8.824201791268472]\n",
      "CI for y_pred: [1.5118215629838603, 6.55377495803487]\n",
      "CI for y_pred: [3.6183219607095545, 9.16130923350846]\n",
      "CI for y_pred: [4.00665026943277, 8.772980924785244]\n",
      "CI for y_pred: [3.9743937428634997, 8.898055164811025]\n",
      "CI for y_pred: [1.4525817510376364, 6.241743916155048]\n",
      "CI for y_pred: [1.360945956882412, 6.333379710310274]\n",
      "CI for y_pred: [3.8182948198649638, 8.682883233983517]\n",
      "CI for y_pred: [1.0183035441143882, 5.933480415426207]\n",
      "CI for y_pred: [1.110937057284008, 6.02648232916961]\n",
      "CI for y_pred: [1.3545421008726137, 6.432601279776582]\n",
      "CI for y_pred: [-0.9256659400393876, 4.152285138045611]\n",
      "CI for y_pred: [-0.6543122751781887, 4.2522023270104565]\n",
      "CI for y_pred: [1.049026390919988, 6.274028422446653]\n",
      "CI for y_pred: [3.6499313902207833, 9.036882090540718]\n",
      "CI for y_pred: [0.9308243670307066, 6.020959592509889]\n",
      "CI for y_pred: [3.949540648614649, 8.737272832146854]\n",
      "CI for y_pred: [-0.8833728788885762, 4.481262930720844]\n",
      "CI for y_pred: [1.4604905808552382, 6.605105940163492]\n",
      "CI for y_pred: [-0.7396612700944152, 3.9662804681006385]\n",
      "CI for y_pred: [2.9236830495398913, 8.185229302460922]\n",
      "CI for y_pred: [1.3962264844935928, 6.298099182699092]\n",
      "CI for y_pred: [1.2493893836597558, 6.444936283532929]\n",
      "CI for y_pred: [0.9293323053637548, 6.022451654176841]\n",
      "CI for y_pred: [-0.7400908782395648, 4.15234550315881]\n",
      "CI for y_pred: [1.1106124682433198, 6.212442345123321]\n",
      "CI for y_pred: [1.1357898860617137, 5.8159940734788815]\n",
      "CI for y_pred: [0.9168268253409644, 6.034957134199631]\n",
      "CI for y_pred: [1.691147547913809, 6.620777177117743]\n",
      "CI for y_pred: [0.9905999984957319, 6.332454814870909]\n",
      "CI for y_pred: [3.6653853514641574, 8.55733956201479]\n",
      "CI for y_pred: [1.127236899925982, 6.845541907636237]\n",
      "CI for y_pred: [0.8836187214536948, 6.253800664999924]\n",
      "CI for y_pred: [1.0327083973470583, 5.919075562193537]\n",
      "CI for y_pred: [3.942366497312462, 9.022900123818573]\n",
      "CI for y_pred: [-0.8677097357004464, 4.465599787532714]\n",
      "CI for y_pred: [1.127725963102003, 6.566599704090683]\n",
      "CI for y_pred: [3.4844461747224122, 8.367007884930489]\n",
      "CI for y_pred: [1.3269966128707011, 6.428021831421784]\n",
      "CI for y_pred: [-2.070157403711182, 2.8835160518481144]\n",
      "CI for y_pred: [3.889392922599381, 9.075873698531655]\n",
      "CI for y_pred: [1.3655782903408116, 6.328747376851874]\n",
      "CI for y_pred: [1.62574035264864, 6.1614030280005565]\n",
      "CI for y_pred: [1.361985589235398, 5.961069224131243]\n",
      "CI for y_pred: [3.6254132554577176, 8.59731165802123]\n",
      "CI for y_pred: [-0.7829883860973261, 4.0096075841035494]\n",
      "CI for y_pred: [2.6517924152446084, 7.528942802191091]\n",
      "CI for y_pred: [-0.7446677440116232, 3.9712869420178465]\n",
      "CI for y_pred: [0.8929673800157691, 6.0588165795248266]\n",
      "CI for y_pred: [1.5593908488624106, 6.5062056721563195]\n",
      "CI for y_pred: [2.701380484590014, 7.479354732845686]\n",
      "CI for y_pred: [0.93699595809613, 6.386058855270511]\n",
      "CI for y_pred: [1.71420070113872, 6.783359450805854]\n",
      "CI for y_pred: [3.9912545253096323, 8.881194382364892]\n",
      "CI for y_pred: [0.7831727506241726, 6.168611208916422]\n",
      "CI for y_pred: [3.5807051103778327, 9.013290656927158]\n",
      "CI for y_pred: [3.834126370521232, 9.038322537153292]\n",
      "CI for y_pred: [3.736808511133614, 8.857187256171377]\n",
      "CI for y_pred: [1.4528373174071643, 6.612759203611565]\n",
      "CI for y_pred: [1.8586056392372452, 6.453319085794307]\n",
      "CI for y_pred: [3.8533748328656543, 8.92625636135236]\n",
      "CI for y_pred: [3.6528143406309983, 8.569910572847949]\n",
      "CI for y_pred: [1.039349547531418, 6.283705265835223]\n",
      "CI for y_pred: [1.4348101802668332, 6.6307863407518965]\n",
      "CI for y_pred: [1.7058155095555732, 6.420473788562956]\n",
      "CI for y_pred: [3.410842859669815, 9.183152907635176]\n",
      "CI for y_pred: [1.4753642130031195, 6.59023230801561]\n",
      "CI for y_pred: [3.775878963017225, 8.725299090831255]\n",
      "CI for y_pred: [3.089819665298584, 8.019092686702228]\n"
     ]
    }
   ],
   "source": [
    "y_pred_list = np.array(y_pred_list)\n",
    "count = 0\n",
    "for i in range(len(y)):\n",
    "    y_pred_i_se = np.std(np.array(y_pred_list[:, i]))\n",
    "    print('CI for y_pred: [' + str(y_pred[i] - 1.96*y_pred_i_se) + ', ' + str(y_pred[i] + 1.96*y_pred_i_se) + ']')\n",
    "\n",
    "    if (y_pred[i] - z_alpha * y_pred_i_se) <= y[i] and  (y_pred[i] + z_alpha * y_pred_i_se) >= y[i]:\n",
    "        count += 1"
   ]
  },
  {
   "cell_type": "markdown",
   "id": "a63ee532",
   "metadata": {},
   "source": [
    "### Q 3.3"
   ]
  },
  {
   "cell_type": "code",
   "execution_count": 68,
   "id": "7f0b97e3",
   "metadata": {},
   "outputs": [
    {
     "name": "stdout",
     "output_type": "stream",
     "text": [
      "The proportion of y_pred falling within the confidence interval: 64%\n"
     ]
    }
   ],
   "source": [
    "print('The proportion of y_pred falling within the confidence interval: ' + str(count) + '%')"
   ]
  },
  {
   "cell_type": "markdown",
   "id": "70d13272",
   "metadata": {},
   "source": [
    "__We obtained a confidence interval of 64% instead of 95% because we computed the confidence interval for the expected value of y_new given x_new, rather than for y_new given x_new.__"
   ]
  },
  {
   "cell_type": "markdown",
   "id": "af2d2b3f",
   "metadata": {},
   "source": [
    "### Q 3.4"
   ]
  },
  {
   "cell_type": "markdown",
   "id": "7e6bf53d",
   "metadata": {},
   "source": [
    "__To compute the confidence interval for Ynew instead of the expectation, we will replicate the previous calculations but also account for the noise. This entails utilizing bootstrapping to estimate the variance of the noise.__"
   ]
  },
  {
   "cell_type": "markdown",
   "id": "a32ef085",
   "metadata": {},
   "source": [
    "# Part B - Tests"
   ]
  },
  {
   "cell_type": "markdown",
   "id": "f97f5ead",
   "metadata": {},
   "source": [
    "## Research question is:\n",
    "###### Does alcohol consumption vary between men and women?\n",
    "* X - Alcohol_Consumption\n",
    "* Y - Sex (2 categories: 1 - male, 0 - female)"
   ]
  },
  {
   "cell_type": "markdown",
   "id": "a78e224e",
   "metadata": {},
   "source": [
    "## Q 1"
   ]
  },
  {
   "cell_type": "markdown",
   "id": "0be3f754",
   "metadata": {},
   "source": [
    "__Is the distribution of alcohol consumption higher in the male category compared to the female category?__"
   ]
  },
  {
   "cell_type": "markdown",
   "id": "4fd6df65",
   "metadata": {},
   "source": [
    "## Q 2"
   ]
  },
  {
   "cell_type": "code",
   "execution_count": 69,
   "id": "a60bab53",
   "metadata": {},
   "outputs": [
    {
     "data": {
      "text/html": [
       "<div>\n",
       "<style scoped>\n",
       "    .dataframe tbody tr th:only-of-type {\n",
       "        vertical-align: middle;\n",
       "    }\n",
       "\n",
       "    .dataframe tbody tr th {\n",
       "        vertical-align: top;\n",
       "    }\n",
       "\n",
       "    .dataframe thead th {\n",
       "        text-align: right;\n",
       "    }\n",
       "</style>\n",
       "<table border=\"1\" class=\"dataframe\">\n",
       "  <thead>\n",
       "    <tr style=\"text-align: right;\">\n",
       "      <th></th>\n",
       "      <th>Alcohol_Consumption</th>\n",
       "      <th>Sex</th>\n",
       "    </tr>\n",
       "  </thead>\n",
       "  <tbody>\n",
       "    <tr>\n",
       "      <th>0</th>\n",
       "      <td>0.0</td>\n",
       "      <td>0</td>\n",
       "    </tr>\n",
       "    <tr>\n",
       "      <th>1</th>\n",
       "      <td>0.0</td>\n",
       "      <td>0</td>\n",
       "    </tr>\n",
       "    <tr>\n",
       "      <th>2</th>\n",
       "      <td>4.0</td>\n",
       "      <td>0</td>\n",
       "    </tr>\n",
       "    <tr>\n",
       "      <th>3</th>\n",
       "      <td>0.0</td>\n",
       "      <td>1</td>\n",
       "    </tr>\n",
       "    <tr>\n",
       "      <th>4</th>\n",
       "      <td>0.0</td>\n",
       "      <td>1</td>\n",
       "    </tr>\n",
       "  </tbody>\n",
       "</table>\n",
       "</div>"
      ],
      "text/plain": [
       "   Alcohol_Consumption  Sex\n",
       "0                  0.0    0\n",
       "1                  0.0    0\n",
       "2                  4.0    0\n",
       "3                  0.0    1\n",
       "4                  0.0    1"
      ]
     },
     "execution_count": 69,
     "metadata": {},
     "output_type": "execute_result"
    }
   ],
   "source": [
    "# Reading the csv file and transforming the data using the code from EX1:\n",
    "df = pd.read_csv('/Users/yardennahum/Statistics 2/Project 1/CVD_cleaned.csv')\n",
    "\n",
    "# Choosing relevant columns:\n",
    "df = df[['Alcohol_Consumption','Sex']]\n",
    "\n",
    "# Changing categorical variables into binary values\n",
    "df['Sex'] = df['Sex'].replace(['Male', 'Female'], [1, 0])\n",
    "df.head()"
   ]
  },
  {
   "cell_type": "code",
   "execution_count": 70,
   "id": "ab85a40f",
   "metadata": {},
   "outputs": [
    {
     "data": {
      "text/html": [
       "<div>\n",
       "<style scoped>\n",
       "    .dataframe tbody tr th:only-of-type {\n",
       "        vertical-align: middle;\n",
       "    }\n",
       "\n",
       "    .dataframe tbody tr th {\n",
       "        vertical-align: top;\n",
       "    }\n",
       "\n",
       "    .dataframe thead th {\n",
       "        text-align: right;\n",
       "    }\n",
       "</style>\n",
       "<table border=\"1\" class=\"dataframe\">\n",
       "  <thead>\n",
       "    <tr style=\"text-align: right;\">\n",
       "      <th></th>\n",
       "      <th>Alcohol_Consumption</th>\n",
       "      <th>Sex</th>\n",
       "    </tr>\n",
       "  </thead>\n",
       "  <tbody>\n",
       "    <tr>\n",
       "      <th>131734</th>\n",
       "      <td>0.0</td>\n",
       "      <td>1</td>\n",
       "    </tr>\n",
       "    <tr>\n",
       "      <th>133706</th>\n",
       "      <td>1.0</td>\n",
       "      <td>1</td>\n",
       "    </tr>\n",
       "    <tr>\n",
       "      <th>278302</th>\n",
       "      <td>1.0</td>\n",
       "      <td>1</td>\n",
       "    </tr>\n",
       "    <tr>\n",
       "      <th>178106</th>\n",
       "      <td>0.0</td>\n",
       "      <td>1</td>\n",
       "    </tr>\n",
       "    <tr>\n",
       "      <th>279619</th>\n",
       "      <td>5.0</td>\n",
       "      <td>1</td>\n",
       "    </tr>\n",
       "    <tr>\n",
       "      <th>...</th>\n",
       "      <td>...</td>\n",
       "      <td>...</td>\n",
       "    </tr>\n",
       "    <tr>\n",
       "      <th>63233</th>\n",
       "      <td>12.0</td>\n",
       "      <td>1</td>\n",
       "    </tr>\n",
       "    <tr>\n",
       "      <th>233311</th>\n",
       "      <td>7.0</td>\n",
       "      <td>0</td>\n",
       "    </tr>\n",
       "    <tr>\n",
       "      <th>232302</th>\n",
       "      <td>1.0</td>\n",
       "      <td>0</td>\n",
       "    </tr>\n",
       "    <tr>\n",
       "      <th>221501</th>\n",
       "      <td>0.0</td>\n",
       "      <td>0</td>\n",
       "    </tr>\n",
       "    <tr>\n",
       "      <th>287114</th>\n",
       "      <td>5.0</td>\n",
       "      <td>0</td>\n",
       "    </tr>\n",
       "  </tbody>\n",
       "</table>\n",
       "<p>200 rows × 2 columns</p>\n",
       "</div>"
      ],
      "text/plain": [
       "        Alcohol_Consumption  Sex\n",
       "131734                  0.0    1\n",
       "133706                  1.0    1\n",
       "278302                  1.0    1\n",
       "178106                  0.0    1\n",
       "279619                  5.0    1\n",
       "...                     ...  ...\n",
       "63233                  12.0    1\n",
       "233311                  7.0    0\n",
       "232302                  1.0    0\n",
       "221501                  0.0    0\n",
       "287114                  5.0    0\n",
       "\n",
       "[200 rows x 2 columns]"
      ]
     },
     "execution_count": 70,
     "metadata": {},
     "output_type": "execute_result"
    }
   ],
   "source": [
    "# sample 200 rows:\n",
    "df_sample_2 = df.sample(n=200, random_state=65643)\n",
    "df_sample_2"
   ]
  },
  {
   "cell_type": "markdown",
   "id": "7992e568",
   "metadata": {},
   "source": [
    "## Q 3"
   ]
  },
  {
   "cell_type": "markdown",
   "id": "2320fb08",
   "metadata": {},
   "source": [
    "**We will denote µ1 as the mean alcohol consumption for males and µ2 as the mean alcohol consumption for females.**\n",
    "\n",
    "𝛿 = µ1 - µ2"
   ]
  },
  {
   "cell_type": "markdown",
   "id": "860d3698",
   "metadata": {},
   "source": [
    "### Q 3.1"
   ]
  },
  {
   "cell_type": "code",
   "execution_count": 71,
   "id": "c5c223fd",
   "metadata": {},
   "outputs": [
    {
     "name": "stdout",
     "output_type": "stream",
     "text": [
      "Mean alcohol consumption for males: 6.6767676767676765\n",
      "Mean alcohol consumption for females: 3.267326732673267\n"
     ]
    }
   ],
   "source": [
    "# Calculate mean consumption for sex=1 (male)\n",
    "x_male = df_sample_2[df_sample_2['Sex'] == 1]['Alcohol_Consumption'].mean()\n",
    "\n",
    "# Calculate mean consumption for sex=0 (female)\n",
    "y_female = df_sample_2[df_sample_2['Sex'] == 0]['Alcohol_Consumption'].mean()\n",
    "\n",
    "print(\"Mean alcohol consumption for males:\", x_male)\n",
    "print(\"Mean alcohol consumption for females:\", y_female)\n"
   ]
  },
  {
   "cell_type": "code",
   "execution_count": 72,
   "id": "46deb854",
   "metadata": {},
   "outputs": [
    {
     "name": "stdout",
     "output_type": "stream",
     "text": [
      "Estimator of 𝛿: 3.4094409440944093\n"
     ]
    }
   ],
   "source": [
    "𝛿 = x_male - y_female\n",
    "print(\"Estimator of 𝛿:\", 𝛿)"
   ]
  },
  {
   "cell_type": "markdown",
   "id": "106daac2",
   "metadata": {},
   "source": [
    "__The estimators are Maximum Likelihood Estimators because we derived them from the mean of alcohol consumption among males and females, We observed in Project 1 that they exhibit an approximate normal distribution.__\n",
    "\n",
    "__Additionally, 𝛿 follows a normal distribution since it's a linear combination of normally distributed variables.__"
   ]
  },
  {
   "cell_type": "markdown",
   "id": "97a15479",
   "metadata": {},
   "source": [
    "### Q 3.2"
   ]
  },
  {
   "cell_type": "code",
   "execution_count": 73,
   "id": "f3dd2c4a",
   "metadata": {},
   "outputs": [
    {
     "name": "stdout",
     "output_type": "stream",
     "text": [
      "Confidence Interval of 𝛿: [1.8062165230364113, 5.012665365152407]\n"
     ]
    }
   ],
   "source": [
    "# CI for delta based on normal approximation\n",
    "# Var(𝛿) = Var(X_mean) + Var(Y_mean)\n",
    "var_x_mean = df_sample_2[df_sample_2['Sex'] == 1]['Alcohol_Consumption'].var() / n\n",
    "var_y_mean = df_sample_2[df_sample_2['Sex'] == 0]['Alcohol_Consumption'].var() / n\n",
    "var_delta = var_x_mean + var_y_mean\n",
    "se_delta = np.sqrt(var_delta)\n",
    "\n",
    "ci_len = z_alpha * se_delta\n",
    "CI = [𝛿 - ci_len , 𝛿 + ci_len]\n",
    "print(f\"Confidence Interval of 𝛿: {CI}\")"
   ]
  },
  {
   "cell_type": "markdown",
   "id": "f5ec3c40",
   "metadata": {},
   "source": [
    "### Q 3.3"
   ]
  },
  {
   "cell_type": "code",
   "execution_count": 74,
   "id": "a7e5e2f0",
   "metadata": {},
   "outputs": [],
   "source": [
    "# This function estimates delta based on entire data\n",
    "def estimate_delta():\n",
    "    df = pd.read_csv('/Users/yardennahum/Statistics 2/Project 1/CVD_cleaned.csv')\n",
    "    df = df[['Alcohol_Consumption','Sex']]\n",
    "    df['Sex'] = df['Sex'].replace(['Male', 'Female'], [1, 0])\n",
    "    \n",
    "    # Calculate mean consumption for sex=1 (male)\n",
    "    x_male = df[df['Sex'] == 1]['Alcohol_Consumption'].mean()\n",
    "\n",
    "    # Calculate mean consumption for sex=0 (female)\n",
    "    y_female = df[df['Sex'] == 0]['Alcohol_Consumption'].mean()\n",
    "    \n",
    "    return x_male - y_female\n",
    "    "
   ]
  },
  {
   "cell_type": "code",
   "execution_count": 75,
   "id": "db16bee0",
   "metadata": {},
   "outputs": [
    {
     "name": "stdout",
     "output_type": "stream",
     "text": [
      "Is the estimator of 𝛿 based on the entire dataset within the confidence interval: True\n"
     ]
    }
   ],
   "source": [
    "delta_all = estimate_delta()\n",
    "print(f\"Is the estimator of 𝛿 based on the entire dataset within the confidence interval: \"\n",
    "      f\"{delta_all >= CI[0] and delta_all <= CI[1]}\")"
   ]
  },
  {
   "cell_type": "markdown",
   "id": "9eb2f07a",
   "metadata": {},
   "source": [
    "### Q 3.4"
   ]
  },
  {
   "cell_type": "markdown",
   "id": "ba7f047c",
   "metadata": {},
   "source": [
    "### Wald Test:\n",
    "* H0: 𝛿 = 0\n",
    "* H1 : 𝛿 > 0\n",
    "* T.S: delta_estimator / se_delta\n",
    "* R.R : |W| > z(1-alpha)"
   ]
  },
  {
   "cell_type": "markdown",
   "id": "311d7a66",
   "metadata": {},
   "source": [
    "__Permutation Test:__\n",
    "\n",
    "𝐻0: 𝐹_𝑋 = 𝐹_𝑌\n",
    "\n",
    "𝐻1: 𝐹_𝑋 ≺ 𝐹_𝑌\n",
    "\n",
    "T.S: Y_mean - X_mean\n",
    " \n",
    "RR: p_value < alpha\n",
    "\n",
    "- (Y - male, X - female)"
   ]
  },
  {
   "cell_type": "code",
   "execution_count": 76,
   "id": "5b67712d",
   "metadata": {},
   "outputs": [
    {
     "name": "stdout",
     "output_type": "stream",
     "text": [
      "p value is: 1.5358226247671562e-05\n",
      "Reject H0: True\n"
     ]
    }
   ],
   "source": [
    "# Wald test:\n",
    "z = stats.norm.ppf(0.95)\n",
    "wald_statistic = 𝛿 / se_delta\n",
    "p_value = stats.norm.sf(abs(wald_statistic))\n",
    "\n",
    "print(f\"p value is: {p_value}\")\n",
    "print(f\"Reject H0: {abs(wald_statistic) > z}\")"
   ]
  },
  {
   "cell_type": "markdown",
   "id": "bc8913de",
   "metadata": {},
   "source": [
    "**We obtained a low p-value, indicating that the observed test statistic is highly unlikely to occur under the null hypothesis. Therefore, we have strong evidence to reject the null hypothesis in favor of the alternative hypothesis.**"
   ]
  },
  {
   "cell_type": "code",
   "execution_count": 77,
   "id": "9de67106",
   "metadata": {},
   "outputs": [
    {
     "name": "stdout",
     "output_type": "stream",
     "text": [
      "Number of male: 99\n"
     ]
    }
   ],
   "source": [
    "# Calculating number of male\n",
    "num_male = df_sample_2[df_sample_2['Sex'] == 1].shape[0]\n",
    "print(\"Number of male:\", num_male)"
   ]
  },
  {
   "cell_type": "code",
   "execution_count": 78,
   "id": "309f5152",
   "metadata": {},
   "outputs": [
    {
     "name": "stdout",
     "output_type": "stream",
     "text": [
      "p-value is: 0.504\n",
      "\n",
      "Reject H0: False\n"
     ]
    }
   ],
   "source": [
    "# Permutations test:\n",
    "# Since we assume continuous values, we can ignore ties.\n",
    "T0 = 𝛿\n",
    "count = 0\n",
    "k = 10000\n",
    "for i in range(k):\n",
    "    sampled_df = df_sample_2.sample(n=200, replace=True)\n",
    "    \n",
    "    # Calculate mean consumption for sex=1 (male)\n",
    "    male_mean = sampled_df[sampled_df['Sex'] == 1]['Alcohol_Consumption'].mean()\n",
    "\n",
    "    # Calculate mean consumption for sex=0 (female)\n",
    "    female_mean = sampled_df[sampled_df['Sex'] == 0]['Alcohol_Consumption'].mean()\n",
    "    T_cur = male_mean - female_mean\n",
    "    if T_cur >= T0:\n",
    "        count += 1\n",
    "p_value = count / k\n",
    "print(f\"p-value is: {p_value }\\n\")\n",
    "print(f\"Reject H0: {p_value < 0.05}\")\n"
   ]
  },
  {
   "cell_type": "markdown",
   "id": "3653917a",
   "metadata": {},
   "source": [
    "**We got that we can't reject H0 and also p value is relatively high.**\n",
    "\n",
    "**The disparities in the outcomes of the Wald test and permutation test can be attributed to their distinct objectives: while the Wald test assesses the equality of means, the permutation test evaluates the equality of distributions.**"
   ]
  },
  {
   "cell_type": "markdown",
   "id": "0408fb5c",
   "metadata": {},
   "source": [
    "## Q 4"
   ]
  },
  {
   "cell_type": "markdown",
   "id": "3d13101a",
   "metadata": {},
   "source": [
    "### Q 4.1"
   ]
  },
  {
   "cell_type": "code",
   "execution_count": 79,
   "id": "ede6ddb7",
   "metadata": {},
   "outputs": [
    {
     "name": "stdout",
     "output_type": "stream",
     "text": [
      "Median 1: 1.0\n",
      "Median 2: 0.0\n",
      "Delta estimator: 1.0\n"
     ]
    }
   ],
   "source": [
    "m1 = df_sample_2[df_sample_2['Sex'] == 1]['Alcohol_Consumption'].median()\n",
    "m2 = df_sample_2[df_sample_2['Sex'] == 0]['Alcohol_Consumption'].median()\n",
    "delta_estimator = m1 - m2\n",
    "\n",
    "print('Median 1: ' + str(m1))\n",
    "print('Median 2: ' + str(m2))\n",
    "print('Delta estimator: ' + str(delta_estimator))"
   ]
  },
  {
   "cell_type": "markdown",
   "id": "9f7194f5",
   "metadata": {},
   "source": [
    "\n",
    "**Given our assumption of normal distribution in the data, we can infer that our estimator aligns with Maximum Likelihood Estimation (MLE) principles. This is because the normal distribution exhibits symmetry around its mean, making the median and the mean equal.**"
   ]
  },
  {
   "cell_type": "markdown",
   "id": "74cb7809",
   "metadata": {},
   "source": [
    "### Q 4.2"
   ]
  },
  {
   "cell_type": "markdown",
   "id": "e37b5a39",
   "metadata": {},
   "source": [
    "Since we observed symmetric normal distribution, where the mean and median coincide, the variances of the mean and median are equal."
   ]
  },
  {
   "cell_type": "code",
   "execution_count": 80,
   "id": "7b128f1e",
   "metadata": {},
   "outputs": [
    {
     "name": "stdout",
     "output_type": "stream",
     "text": [
      "Confidence Interval of 𝛿: [-0.603224421057998, 2.6032244210579982]\n"
     ]
    }
   ],
   "source": [
    "CI_2 = [delta_estimator - ci_len , delta_estimator + ci_len]\n",
    "\n",
    "print(f\"Confidence Interval of 𝛿: {CI_2}\")"
   ]
  },
  {
   "cell_type": "markdown",
   "id": "3a178c66",
   "metadata": {},
   "source": [
    "### Q 4.3"
   ]
  },
  {
   "cell_type": "code",
   "execution_count": 81,
   "id": "5555a7a0",
   "metadata": {},
   "outputs": [],
   "source": [
    "# This function estimates delta based on entire data\n",
    "def estimate_delta_median():\n",
    "    df = pd.read_csv('/Users/yardennahum/Statistics 2/Project 1/CVD_cleaned.csv')\n",
    "    df = df[['Alcohol_Consumption','Sex']]\n",
    "    df['Sex'] = df['Sex'].replace(['Male', 'Female'], [1, 0])\n",
    "    \n",
    "    # Calculate median consumption for sex=1 (male)\n",
    "    m1 = df[df['Sex'] == 1]['Alcohol_Consumption'].median()\n",
    "\n",
    "    # Calculate median consumption for sex=0 (female)\n",
    "    m2 = df[df['Sex'] == 0]['Alcohol_Consumption'].median()\n",
    "    delta_estimator = m1 - m2\n",
    "    \n",
    "    return m1 - m2 \n",
    "    "
   ]
  },
  {
   "cell_type": "code",
   "execution_count": 82,
   "id": "ca4d919e",
   "metadata": {},
   "outputs": [
    {
     "name": "stdout",
     "output_type": "stream",
     "text": [
      "Is the estimator of 𝛿 based on the entire dataset within the confidence interval: True\n"
     ]
    }
   ],
   "source": [
    "delta_all_2 = estimate_delta_median()\n",
    "print(f\"Is the estimator of 𝛿 based on the entire dataset within the confidence interval: \"\n",
    "      f\"{delta_all_2 >= CI_2[0] and delta_all_2 <= CI_2[1]}\")"
   ]
  },
  {
   "cell_type": "markdown",
   "id": "75324972",
   "metadata": {},
   "source": [
    "### Q 4.4"
   ]
  },
  {
   "cell_type": "markdown",
   "id": "b8096f48",
   "metadata": {},
   "source": [
    "__Permutation Test:__\n",
    "\n",
    "𝐻0: 𝐹_𝑋 = 𝐹_𝑌\n",
    "\n",
    "𝐻1: 𝐹_𝑋 ≺ 𝐹_𝑌\n",
    "\n",
    "T.S: Y_median - X_median\n",
    " \n",
    "RR: p_value < alpha\n",
    "\n",
    "- (Y - male, X - female)"
   ]
  },
  {
   "cell_type": "code",
   "execution_count": 83,
   "id": "7211e60f",
   "metadata": {},
   "outputs": [
    {
     "name": "stdout",
     "output_type": "stream",
     "text": [
      "p-value is: 0.6859\n",
      "\n",
      "Reject H0: False\n"
     ]
    }
   ],
   "source": [
    "# Permutation test:\n",
    "# Since we assume continuous values, we can ignore ties.\n",
    "T0 = delta_estimator\n",
    "count = 0\n",
    "k = 10000\n",
    "for i in range(k):\n",
    "    sampled_df = df_sample_2.sample(n=200, replace=True)\n",
    "    \n",
    "    # Calculate median consumption for sex=1 (male)\n",
    "    m1_sam = sampled_df[sampled_df['Sex'] == 1]['Alcohol_Consumption'].median()\n",
    "\n",
    "    # Calculate median consumption for sex=0 (female)\n",
    "    m2_sam = sampled_df[sampled_df['Sex'] == 0]['Alcohol_Consumption'].median()\n",
    "    T_cur = m1_sam - m2_sam\n",
    "    if T_cur >= T0:\n",
    "        count += 1\n",
    "\n",
    "p_value = count / k\n",
    "print(f\"p-value is: {p_value }\\n\")\n",
    "print(f\"Reject H0: {p_value < 0.05}\")\n"
   ]
  },
  {
   "cell_type": "markdown",
   "id": "42cfbf74",
   "metadata": {},
   "source": [
    "### Q 4.5"
   ]
  },
  {
   "cell_type": "code",
   "execution_count": 84,
   "id": "a6f41f63",
   "metadata": {},
   "outputs": [
    {
     "name": "stdout",
     "output_type": "stream",
     "text": [
      "F-test statistic: 2.474247338176305\n",
      "P-value: 0.9999952706183035\n",
      "Fail to reject H0: var(male) = var(female)\n"
     ]
    }
   ],
   "source": [
    "# F test: H0: var(male) = var(female), H1: var(male) ≠ var(female)\n",
    "var_male = df_sample_2[df_sample_2['Sex'] == 1]['Alcohol_Consumption'].var()\n",
    "var_female = df_sample_2[df_sample_2['Sex'] == 0]['Alcohol_Consumption'].var()\n",
    "\n",
    "# Calculate the F-test statistic\n",
    "F_statistic = var_male / var_female\n",
    "\n",
    "# Degrees of freedom for male and female variances\n",
    "df1 = len(df_sample_2[df_sample_2['Sex'] == 1]) - 1\n",
    "df2 = len(df_sample_2[df_sample_2['Sex'] == 0]) - 1\n",
    "\n",
    "# Calculate the p-value\n",
    "p_value = stats.f.cdf(F_statistic, df1, df2)\n",
    "\n",
    "print(\"F-test statistic:\", F_statistic)\n",
    "print(\"P-value:\", p_value)\n",
    "\n",
    "if p_value < alpha:\n",
    "    print(\"Reject H0: var(male) != var(female)\")\n",
    "else:\n",
    "    print(\"Fail to reject H0: var(male) = var(female)\")"
   ]
  },
  {
   "cell_type": "markdown",
   "id": "feecf283",
   "metadata": {},
   "source": [
    "**We can use Wald test since delta is MLE as explained earlier.**\n",
    "\n",
    "**We can also use t test since all conditions are met:**\n",
    "\n",
    "1) n > 30 (in our case n = 200)\n",
    "2) Equal variances by F test.\n",
    "3) Data is normally distributed."
   ]
  },
  {
   "cell_type": "markdown",
   "id": "d4de7d9b",
   "metadata": {},
   "source": [
    "## Q 5"
   ]
  },
  {
   "cell_type": "markdown",
   "id": "ef123df1",
   "metadata": {},
   "source": [
    "__Permutation Test:__\n",
    "\n",
    "𝐻0: 𝐹_𝑋 = 𝐹_𝑌\n",
    "\n",
    "𝐻1: 𝐹_𝑋 ≺ 𝐹_𝑌\n",
    "\n",
    "T.S: ∑Si, sum of male ranks\n",
    " \n",
    "RR: p_value < alpha\n",
    "\n",
    "- (Y - male, X - female)"
   ]
  },
  {
   "cell_type": "code",
   "execution_count": 85,
   "id": "5eac01c8",
   "metadata": {},
   "outputs": [
    {
     "name": "stdout",
     "output_type": "stream",
     "text": [
      "p-value is: 0.6188\n",
      "\n",
      "Reject H0: False\n"
     ]
    }
   ],
   "source": [
    "sorted_df =  df_sample_2.sort_values(by='Alcohol_Consumption')\n",
    "sorted_df['Position'] = range(1, len(sorted_df) + 1)\n",
    "T0 = sorted_df[sorted_df['Sex'] == 1]['Position'].sum()\n",
    "count = 0\n",
    "for i in range(k):\n",
    "    sampled_df = df_sample_2.sample(n=200, replace=True)\n",
    "    \n",
    "    # Sort the DataFrame by 'Alcohol_Consumption' in ascending order\n",
    "    df_sorted = sampled_df.sort_values(by='Alcohol_Consumption')\n",
    "\n",
    "    # Add another column representing the position\n",
    "    df_sorted['Position'] = range(1, len(df_sorted) + 1)\n",
    "\n",
    "    # Sum the \"Position\" column for rows where \"Sex\" equals 1\n",
    "    s1 = df_sorted[df_sorted['Sex'] == 1]['Position'].sum()\n",
    "    \n",
    "    if s1 >= T0:\n",
    "        count += 1\n",
    "    \n",
    "p_value = count / k\n",
    "print(f\"p-value is: {p_value }\\n\")\n",
    "print(f\"Reject H0: {p_value < 0.05}\")    \n"
   ]
  },
  {
   "cell_type": "code",
   "execution_count": 86,
   "id": "6f076bfb",
   "metadata": {},
   "outputs": [
    {
     "name": "stdout",
     "output_type": "stream",
     "text": [
      "Reject H0: False\n"
     ]
    }
   ],
   "source": [
    "# Using normal approx.\n",
    "n = df_sample_2[df_sample_2['Sex'] == 1].shape[0]\n",
    "m = df_sample_2[df_sample_2['Sex'] == 0].shape[0]\n",
    "N = n + m\n",
    "E_ws = (n*(N + 1)) / 2\n",
    "var_ws = n * m * (N + 1) / 12\n",
    "print(f\"Reject H0: {((T0 - E_ws) / np.sqrt(var_ws)) > stats.norm.ppf(0.95)}\")"
   ]
  },
  {
   "cell_type": "markdown",
   "id": "45670958",
   "metadata": {},
   "source": [
    "__As we can see we can't reject H0 under both tests.__"
   ]
  },
  {
   "cell_type": "markdown",
   "id": "3dbacd40",
   "metadata": {},
   "source": [
    "## Q6"
   ]
  },
  {
   "cell_type": "markdown",
   "id": "33198f36",
   "metadata": {},
   "source": [
    "__The majority of our tests indicate that both male and female alcohol consumption stem from the same distribution. Additionally, as evident from their histograms, it is reasonable to infer that they originate from approximately identical distributions, as we can see below.__"
   ]
  },
  {
   "cell_type": "code",
   "execution_count": 87,
   "id": "468c950a",
   "metadata": {},
   "outputs": [
    {
     "data": {
      "image/png": "[encoded data removed]",
      "text/plain": [
       "<Figure size 1200x600 with 2 Axes>"
      ]
     },
     "metadata": {},
     "output_type": "display_data"
    }
   ],
   "source": [
    "# Reading the csv file and transforming the data using the code from EX1:\n",
    "original_df = pd.read_csv('/Users/yardennahum/Statistics 2/Project 1/CVD_cleaned.csv')\n",
    "\n",
    "# Transforming df\n",
    "original_df = original_df[['Sex', 'Alcohol_Consumption']]\n",
    "original_df['Sex'] = original_df['Sex'].replace({'Male': 1, 'Female': 0})\n",
    "\n",
    "# Filter the DataFrame for rows where 'Sex' equals 1 and 0\n",
    "df_sex_1 = original_df[original_df['Sex'] == 1]\n",
    "df_sex_0 = original_df[original_df['Sex'] == 0]\n",
    "\n",
    "# Plot histograms side by side\n",
    "plt.figure(figsize=(12, 6))\n",
    "\n",
    "plt.subplot(1, 2, 1)\n",
    "plt.hist(df_sex_1['Alcohol_Consumption'], bins=10, color='blue', edgecolor='black')\n",
    "plt.xlabel('Alcohol Consumption')\n",
    "plt.ylabel('Frequency')\n",
    "plt.title('Histogram of Alcohol Consumption (Sex = 1)')\n",
    "\n",
    "plt.subplot(1, 2, 2)\n",
    "plt.hist(df_sex_0['Alcohol_Consumption'], bins=10, color='pink', edgecolor='black')\n",
    "plt.xlabel('Alcohol Consumption')\n",
    "plt.ylabel('Frequency')\n",
    "plt.title('Histogram of Alcohol Consumption (Sex = 0)')\n",
    "\n",
    "plt.tight_layout()\n",
    "plt.show()"
   ]
  }
 ],
 "metadata": {
  "kernelspec": {
   "display_name": "Python 3 (ipykernel)",
   "language": "python",
   "name": "python3"
  },
  "language_info": {
   "codemirror_mode": {
    "name": "ipython",
    "version": 3
   },
   "file_extension": ".py",
   "mimetype": "text/x-python",
   "name": "python",
   "nbconvert_exporter": "python",
   "pygments_lexer": "ipython3",
   "version": "3.10.4"
  }
 },
 "nbformat": 4,
 "nbformat_minor": 5
}
