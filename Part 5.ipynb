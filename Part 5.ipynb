{
 "cells": [
  {
   "cell_type": "code",
   "execution_count": 44,
   "id": "1ece2e5c",
   "metadata": {},
   "outputs": [],
   "source": [
    "import pandas as pd\n",
    "from scipy.stats import norm\n",
    "import numpy as np\n",
    "import matplotlib.pyplot as plt\n",
    "import seaborn as sns\n",
    "import scipy.stats as stats"
   ]
  },
  {
   "cell_type": "code",
   "execution_count": 2,
   "id": "7a8856f2",
   "metadata": {},
   "outputs": [
    {
     "data": {
      "text/html": [
       "<div>\n",
       "<style scoped>\n",
       "    .dataframe tbody tr th:only-of-type {\n",
       "        vertical-align: middle;\n",
       "    }\n",
       "\n",
       "    .dataframe tbody tr th {\n",
       "        vertical-align: top;\n",
       "    }\n",
       "\n",
       "    .dataframe thead th {\n",
       "        text-align: right;\n",
       "    }\n",
       "</style>\n",
       "<table border=\"1\" class=\"dataframe\">\n",
       "  <thead>\n",
       "    <tr style=\"text-align: right;\">\n",
       "      <th></th>\n",
       "      <th>Sex</th>\n",
       "      <th>Alcohol_Consumption</th>\n",
       "    </tr>\n",
       "  </thead>\n",
       "  <tbody>\n",
       "    <tr>\n",
       "      <th>0</th>\n",
       "      <td>2</td>\n",
       "      <td>0.0</td>\n",
       "    </tr>\n",
       "    <tr>\n",
       "      <th>1</th>\n",
       "      <td>2</td>\n",
       "      <td>0.0</td>\n",
       "    </tr>\n",
       "    <tr>\n",
       "      <th>2</th>\n",
       "      <td>2</td>\n",
       "      <td>4.0</td>\n",
       "    </tr>\n",
       "    <tr>\n",
       "      <th>3</th>\n",
       "      <td>1</td>\n",
       "      <td>0.0</td>\n",
       "    </tr>\n",
       "    <tr>\n",
       "      <th>4</th>\n",
       "      <td>1</td>\n",
       "      <td>0.0</td>\n",
       "    </tr>\n",
       "    <tr>\n",
       "      <th>...</th>\n",
       "      <td>...</td>\n",
       "      <td>...</td>\n",
       "    </tr>\n",
       "    <tr>\n",
       "      <th>308849</th>\n",
       "      <td>1</td>\n",
       "      <td>4.0</td>\n",
       "    </tr>\n",
       "    <tr>\n",
       "      <th>308850</th>\n",
       "      <td>1</td>\n",
       "      <td>8.0</td>\n",
       "    </tr>\n",
       "    <tr>\n",
       "      <th>308851</th>\n",
       "      <td>2</td>\n",
       "      <td>4.0</td>\n",
       "    </tr>\n",
       "    <tr>\n",
       "      <th>308852</th>\n",
       "      <td>1</td>\n",
       "      <td>3.0</td>\n",
       "    </tr>\n",
       "    <tr>\n",
       "      <th>308853</th>\n",
       "      <td>2</td>\n",
       "      <td>1.0</td>\n",
       "    </tr>\n",
       "  </tbody>\n",
       "</table>\n",
       "<p>308854 rows × 2 columns</p>\n",
       "</div>"
      ],
      "text/plain": [
       "        Sex  Alcohol_Consumption\n",
       "0         2                  0.0\n",
       "1         2                  0.0\n",
       "2         2                  4.0\n",
       "3         1                  0.0\n",
       "4         1                  0.0\n",
       "...     ...                  ...\n",
       "308849    1                  4.0\n",
       "308850    1                  8.0\n",
       "308851    2                  4.0\n",
       "308852    1                  3.0\n",
       "308853    2                  1.0\n",
       "\n",
       "[308854 rows x 2 columns]"
      ]
     },
     "execution_count": 2,
     "metadata": {},
     "output_type": "execute_result"
    }
   ],
   "source": [
    "# Reading the csv file and transforming the data using the code from EX1:\n",
    "df = pd.read_csv('CVD_cleaned.csv')\n",
    "# Choosing relevant columns:\n",
    "df = df[['Sex', 'Alcohol_Consumption']]\n",
    "\n",
    "# Changing categorical variable into binary values\n",
    "df['Sex'] = df['Sex'].replace(['Male', 'Female'], [1, 2])\n",
    "df"
   ]
  },
  {
   "cell_type": "markdown",
   "id": "61368093",
   "metadata": {},
   "source": [
    "# Research question is:\n",
    "###### Does alcohol consumption vary between men and women?\n",
    "* X - Alcohol_Consumption\n",
    "* Y - Sex (2 categories: 1 - male, 0 - female)"
   ]
  },
  {
   "cell_type": "markdown",
   "id": "e2199ab0",
   "metadata": {},
   "source": [
    "## Q 1"
   ]
  },
  {
   "cell_type": "code",
   "execution_count": 5,
   "id": "7a0ef97a",
   "metadata": {},
   "outputs": [],
   "source": [
    "# Sampling 200 rows:\n",
    "df_sample_200 = df.sample(n=200, random_state=42)\n",
    "\n",
    "# Getting the indices of the already sampled rows\n",
    "sampled_indices = df_sample_200.index\n",
    "\n",
    "# Excluding the already sampled rows from the DataFrame\n",
    "remaining_df = df.drop(sampled_indices)\n",
    "\n",
    "# Sampling another 1000 rows from the remaining DataFrame\n",
    "df_sample_1000 = remaining_df.sample(n=1000, random_state=42)"
   ]
  },
  {
   "cell_type": "markdown",
   "id": "ef883512",
   "metadata": {},
   "source": [
    "## Q 2"
   ]
  },
  {
   "cell_type": "markdown",
   "id": "6ffaed7d",
   "metadata": {},
   "source": [
    "### Q 2.1"
   ]
  },
  {
   "cell_type": "code",
   "execution_count": 6,
   "id": "9b610e76",
   "metadata": {},
   "outputs": [],
   "source": [
    "def eta(p):\n",
    "    epsilon = 1e-10 # Small constant to prevent division by zero\n",
    "    return np.log(p / (1 - p + epsilon))\n"
   ]
  },
  {
   "cell_type": "code",
   "execution_count": 7,
   "id": "c4614e9a",
   "metadata": {},
   "outputs": [],
   "source": [
    "# Setting tau to be the median of Alcohol_Consumption\n",
    "tau = df['Alcohol_Consumption'].median()"
   ]
  },
  {
   "cell_type": "code",
   "execution_count": 8,
   "id": "64713cd2",
   "metadata": {},
   "outputs": [
    {
     "name": "stdout",
     "output_type": "stream",
     "text": [
      "p1: 0.5714285714285714\n",
      "p2: 0.39215686274509803\n"
     ]
    }
   ],
   "source": [
    "# Estimating p1 and p2:\n",
    "len_male = df_sample_200[(df_sample_200['Sex'] == 1)].shape[0]\n",
    "len_female = 200 - len_male\n",
    "p1 = df_sample_200[(df_sample_200['Sex'] == 1) & (df_sample_200['Alcohol_Consumption'] > tau)].shape[0] / len_male\n",
    "p2 = df_sample_200[(df_sample_200['Sex'] == 2) & (df_sample_200['Alcohol_Consumption'] > tau)].shape[0] / len_female\n",
    "print(\"p1:\", p1)\n",
    "print(\"p2:\", p2)"
   ]
  },
  {
   "cell_type": "code",
   "execution_count": 9,
   "id": "2c1e2076",
   "metadata": {},
   "outputs": [
    {
     "name": "stdout",
     "output_type": "stream",
     "text": [
      "phi:  0.725937003314119\n"
     ]
    }
   ],
   "source": [
    "# Estimating phi\n",
    "phi = eta(p1) - eta(p2)\n",
    "print(\"phi: \", phi)"
   ]
  },
  {
   "cell_type": "code",
   "execution_count": 10,
   "id": "e5ad7de2",
   "metadata": {},
   "outputs": [],
   "source": [
    "# Confiedence Interval of phi using Bootstrap:\n",
    "B = 700\n",
    "phi_values = []\n",
    "alpha = 0.05\n",
    "for i in range(B):\n",
    "    resampled_df = df_sample_200.sample(n=len(df_sample_200), replace=True)\n",
    "    p1 = resampled_df[(resampled_df['Sex'] == 1) & (resampled_df['Alcohol_Consumption'] > tau)].shape[0] / len_male\n",
    "    p2 = resampled_df[(resampled_df['Sex'] == 2) & (resampled_df['Alcohol_Consumption'] > tau)].shape[0] / len_female\n",
    "    phi_values.append(eta(p1) - eta(p2))\n",
    "    \n"
   ]
  },
  {
   "cell_type": "code",
   "execution_count": 43,
   "id": "7c49c431",
   "metadata": {},
   "outputs": [
    {
     "name": "stdout",
     "output_type": "stream",
     "text": [
      "Confidence Interval for Phi: [(-0.04595672094505621, 1.5340384755016025)]\n",
      "Legnth of CI: 1.5799951964466588\n"
     ]
    }
   ],
   "source": [
    "# Compute confidence interval using percentile method\n",
    "lower_percentile = (alpha / 2) * 100\n",
    "upper_percentile = 100 - lower_percentile\n",
    "lower_bound = np.percentile(phi_values, lower_percentile)\n",
    "upper_bound = np.percentile(phi_values, upper_percentile)\n",
    "print(f\"Confidence Interval for Phi: [{lower_bound, upper_bound}]\")\n",
    "print(f\"Legnth of CI: {upper_bound - lower_bound}\")"
   ]
  },
  {
   "cell_type": "markdown",
   "id": "856ca7af",
   "metadata": {},
   "source": [
    "__As we can see phi is in the confidence interval calculated in the percentile method.__"
   ]
  },
  {
   "cell_type": "markdown",
   "id": "2c9c13c0",
   "metadata": {},
   "source": [
    "### Q 2.2\n",
    "__We'll employ the formula introduced in the lecture, where:__\n",
    "\n",
    "* S represents the count of males/females with alcohol consumption exceeding tau.\n",
    "* n denotes the total number of men/women."
   ]
  },
  {
   "cell_type": "code",
   "execution_count": 39,
   "id": "6ceb1770",
   "metadata": {},
   "outputs": [
    {
     "name": "stdout",
     "output_type": "stream",
     "text": [
      "phi: 0.7256121897100627\n"
     ]
    }
   ],
   "source": [
    "# Estimating phi:\n",
    "s_male = df_sample_200[(df_sample_200['Sex'] == 1) & (df_sample_200['Alcohol_Consumption'] > tau)].shape[0]\n",
    "s_female = df_sample_200[(df_sample_200['Sex'] == 2) & (df_sample_200['Alcohol_Consumption'] > tau)].shape[0]\n",
    "p1_exp = s_male / (len_male + 2)\n",
    "p2_exp = s_female / (len_female + 2)\n",
    "p1_mle = s_male / len_male\n",
    "p2_mle = s_female / len_female\n",
    "p1_est = (2 / (len_male + 2) * p1_exp) + (len_male / (len_male + 2) * p1_mle)\n",
    "p2_est = (2 / (len_female + 2) * p2_exp) + (len_female / (len_female + 2) * p2_mle)\n",
    "\n",
    "print(f\"phi: {eta(p1_est) - eta(p2_est)}\")"
   ]
  },
  {
   "cell_type": "code",
   "execution_count": 58,
   "id": "f8e9fb84",
   "metadata": {},
   "outputs": [
    {
     "name": "stdout",
     "output_type": "stream",
     "text": [
      "Credible Interval for Phi: (0.15300626243949325, 1.2208620866335897)\n",
      "Legnth of CI: 1.0678558241940965\n"
     ]
    }
   ],
   "source": [
    "# Calculating Credible Interval\n",
    "phi_list = []\n",
    "for i in range(B):\n",
    "    p1_boot = stats.beta.rvs(s_male + 1, len_male - s_male + 1, size=1)\n",
    "    p2_boot = stats.beta.rvs(s_female + 1, len_female - s_female + 1, size=1)\n",
    "    phi_list.append(eta(p1_boot) - eta(p2_boot))\n",
    "\n",
    "lower_bound2 = np.percentile(phi_list, lower_percentile)\n",
    "upper_bound2 = np.percentile(phi_list, upper_percentile)\n",
    "print(f\"Credible Interval for Phi: {lower_bound2, upper_bound2}\")\n",
    "print(f\"Legnth of CI: {upper_bound2 - lower_bound2}\")"
   ]
  },
  {
   "cell_type": "markdown",
   "id": "cadb3606",
   "metadata": {},
   "source": [
    "### Q 2.3\n",
    "__Jeffrey's Prior__\n",
    "* Postertior: sqrt(1/p(1-p)) * p^s(1-p)^n-s ---> ~ Beta(s + 0.5, n - s + 0.5)"
   ]
  },
  {
   "cell_type": "code",
   "execution_count": 61,
   "id": "bbdf232e",
   "metadata": {},
   "outputs": [
    {
     "name": "stdout",
     "output_type": "stream",
     "text": [
      "Credible Interval for Phi using Jeffrey's Prior: (0.16937325250747706, 1.2554661332189538)\n",
      "Legnth of CI: 1.0860928807114767\n",
      "Phi estimator: 0.7164346878723177\n"
     ]
    }
   ],
   "source": [
    "phi_estimators = []\n",
    "for i in range(B):\n",
    "    p1_boot = stats.beta.rvs(s_male + 0.5, len_male - s_male + 0.5, size=1)\n",
    "    p2_boot = stats.beta.rvs(s_female + 0.5, len_female - s_female + 0.5, size=1) \n",
    "    phi_estimators.append(eta(p1_boot) - eta(p2_boot))\n",
    "    \n",
    "lower_bound3 = np.percentile(phi_estimators, lower_percentile)\n",
    "upper_bound3 = np.percentile(phi_estimators, upper_percentile)\n",
    "print(f\"Credible Interval for Phi using Jeffrey's Prior: {lower_bound3, upper_bound3}\")\n",
    "print(f\"Legnth of CI: {upper_bound3 - lower_bound3}\")\n",
    "print(f\"Phi estimator: {np.mean(phi_estimators)}\")"
   ]
  },
  {
   "cell_type": "markdown",
   "id": "067e1e2c",
   "metadata": {},
   "source": [
    "### Q 2.4"
   ]
  },
  {
   "cell_type": "code",
   "execution_count": 69,
   "id": "fa94a1e7",
   "metadata": {},
   "outputs": [
    {
     "name": "stdout",
     "output_type": "stream",
     "text": [
      "p1 prior parameters are: (262, 219)\n",
      "p2 prior parameters are: (221, 302)\n",
      "\n",
      "p1 posterior parameters are: (523, 437)\n",
      "p2 posterior parameters are: (441, 603)\n"
     ]
    }
   ],
   "source": [
    "# Counting the number of males and females in df_sample_1000\n",
    "len_male_1000 = df_sample_1000[df_sample_1000['Sex'] == 1].shape[0]\n",
    "len_female_1000 = df_sample_1000[df_sample_1000['Sex'] == 2].shape[0]\n",
    "s1_male_1000 = df_sample_1000[(df_sample_1000['Sex'] == 1) & (df_sample_1000['Alcohol_Consumption'] > tau)].shape[0]\n",
    "s2_female_1000 = df_sample_1000[(df_sample_1000['Sex'] == 2) & (df_sample_1000['Alcohol_Consumption'] > tau)].shape[0]\n",
    "\n",
    "print(f\"p1 prior parameters are: {s1_male_1000 + 1, len_male_1000 - s1_male_1000 + 1 }\")\n",
    "print(f\"p2 prior parameters are: {s2_female_1000 + 1, len_female_1000 - s2_female_1000 + 1 }\\n\")\n",
    "\n",
    "# Using power laws and we get:\n",
    "print(f\"p1 posterior parameters are: {s1_male_1000 + 262, len_male_1000 - s1_male_1000 + 219}\")\n",
    "print(f\"p2 posterior parameters are: {s2_female_1000 + 221, len_female_1000 - s2_female_1000 + 302}\")"
   ]
  },
  {
   "cell_type": "code",
   "execution_count": 66,
   "id": "8c7d4747",
   "metadata": {},
   "outputs": [
    {
     "name": "stdout",
     "output_type": "stream",
     "text": [
      "Credible Interval for Phi: (0.3283202301727988, 0.6764165400892463)\n",
      "Legnth of CI: 0.3480963099164475\n",
      "Phi estimator: 0.495808799450889\n"
     ]
    }
   ],
   "source": [
    "phi_vals = []\n",
    "for i in range(B):\n",
    "    p1_boot = stats.beta.rvs(s1_male_1000 + 262, len_male_1000 - s1_male_1000 + 219, size=1)\n",
    "    p2_boot = stats.beta.rvs(s2_female_1000 + 221, len_female_1000 - s2_female_1000 + 302, size=1) \n",
    "    phi_vals.append(eta(p1_boot) - eta(p2_boot))\n",
    "\n",
    "lower_bound4 = np.percentile(phi_vals, lower_percentile)\n",
    "upper_bound4 = np.percentile(phi_vals, upper_percentile)\n",
    "print(f\"Credible Interval for Phi: {lower_bound4, upper_bound4}\")\n",
    "print(f\"Legnth of CI: {upper_bound4 - lower_bound4}\")\n",
    "print(f\"Phi estimator: {np.mean(phi_vals)}\")"
   ]
  },
  {
   "cell_type": "markdown",
   "id": "8052b207",
   "metadata": {},
   "source": [
    "### Q 2.5\n",
    "__We observe that the majority of the confidence intervals we computed exhibit similarity, along with the estimated phi, with the exception of the final confidence interval\n",
    "This last confidence interval is notably the shortest, indicating a higher level of confidence. This outcome is sensible given that it was derived from our historical data.__"
   ]
  }
 ],
 "metadata": {
  "kernelspec": {
   "display_name": "Python 3 (ipykernel)",
   "language": "python",
   "name": "python3"
  },
  "language_info": {
   "codemirror_mode": {
    "name": "ipython",
    "version": 3
   },
   "file_extension": ".py",
   "mimetype": "text/x-python",
   "name": "python",
   "nbconvert_exporter": "python",
   "pygments_lexer": "ipython3",
   "version": "3.10.4"
  }
 },
 "nbformat": 4,
 "nbformat_minor": 5
}
